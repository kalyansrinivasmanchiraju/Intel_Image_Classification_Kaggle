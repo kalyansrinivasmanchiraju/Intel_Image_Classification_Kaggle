{
  "nbformat": 4,
  "nbformat_minor": 0,
  "metadata": {
    "colab": {
      "name": "Intel_Image_Classification.ipynb",
      "provenance": []
    },
    "kernelspec": {
      "name": "python3",
      "display_name": "Python 3"
    },
    "accelerator": "GPU"
  },
  "cells": [
    {
      "cell_type": "code",
      "metadata": {
        "id": "G96FEkphY4ig",
        "colab_type": "code",
        "colab": {
          "base_uri": "https://localhost:8080/",
          "height": 51
        },
        "outputId": "a3907e87-bc95-4bad-9afa-3cc6af130c3d"
      },
      "source": [
        "import pandas as pd\n",
        "import numpy as np\n",
        "import tensorflow as tf\n",
        "import matplotlib.pyplot as plt\n",
        "\n",
        "import tensorflow.keras\n",
        "from tensorflow.keras.layers import Conv2D, Dropout, MaxPool2D, AvgPool2D, Add, Dense \n",
        "from tensorflow.keras.preprocessing.image import load_img, img_to_array\n",
        "\n",
        "from tensorflow.keras.layers import Input,Dropout, Add, Dense, Activation, ZeroPadding2D, BatchNormalization, Flatten, Conv2D, AveragePooling2D, MaxPooling2D\n",
        "from tensorflow.keras.models import Model, load_model,Sequential\n",
        "from tensorflow.keras.initializers import glorot_uniform\n",
        "\n",
        "import warnings\n",
        "warnings.warn(\"ignore\")\n",
        "import os\n"
      ],
      "execution_count": null,
      "outputs": [
        {
          "output_type": "stream",
          "text": [
            "/usr/local/lib/python3.6/dist-packages/ipykernel_launcher.py:15: UserWarning: ignore\n",
            "  from ipykernel import kernelapp as app\n"
          ],
          "name": "stderr"
        }
      ]
    },
    {
      "cell_type": "markdown",
      "metadata": {
        "id": "caT4NPF0OCqS",
        "colab_type": "text"
      },
      "source": [
        "**Import data from Drive into Notebook**"
      ]
    },
    {
      "cell_type": "code",
      "metadata": {
        "id": "92AY8k_Xg4Ln",
        "colab_type": "code",
        "colab": {}
      },
      "source": [
        "from tqdm import tqdm\n",
        "import glob"
      ],
      "execution_count": null,
      "outputs": []
    },
    {
      "cell_type": "code",
      "metadata": {
        "id": "7V9ZqYfMZNld",
        "colab_type": "code",
        "colab": {
          "base_uri": "https://localhost:8080/",
          "height": 122
        },
        "outputId": "7e25f562-d340-4c9d-bc68-bed6a4ad4c6f"
      },
      "source": [
        "from google.colab import drive\n",
        "drive.mount('/content/drive')"
      ],
      "execution_count": null,
      "outputs": [
        {
          "output_type": "stream",
          "text": [
            "Go to this URL in a browser: https://accounts.google.com/o/oauth2/auth?client_id=947318989803-6bn6qk8qdgf4n4g3pfee6491hc0brc4i.apps.googleusercontent.com&redirect_uri=urn%3aietf%3awg%3aoauth%3a2.0%3aoob&response_type=code&scope=email%20https%3a%2f%2fwww.googleapis.com%2fauth%2fdocs.test%20https%3a%2f%2fwww.googleapis.com%2fauth%2fdrive%20https%3a%2f%2fwww.googleapis.com%2fauth%2fdrive.photos.readonly%20https%3a%2f%2fwww.googleapis.com%2fauth%2fpeopleapi.readonly\n",
            "\n",
            "Enter your authorization code:\n",
            "··········\n",
            "Mounted at /content/drive\n"
          ],
          "name": "stdout"
        }
      ]
    },
    {
      "cell_type": "markdown",
      "metadata": {
        "id": "_4s_N_TmOP8D",
        "colab_type": "text"
      },
      "source": [
        "**Converting Image to Array**"
      ]
    },
    {
      "cell_type": "markdown",
      "metadata": {
        "id": "mnHfHxQYObaH",
        "colab_type": "text"
      },
      "source": [
        "1. Defining a function Convert to perform our required action\n",
        "2. Using load_img to access images in the specified path and setting size 150 using target_size variable\n",
        "3. Using img_to_array to convert images to array\n",
        "4. Standardizing images by dividing them with 255 for easy computation\n",
        "5. Appending all the scaled images into an array"
      ]
    },
    {
      "cell_type": "code",
      "metadata": {
        "id": "KmBU3R2CZsFB",
        "colab_type": "code",
        "colab": {}
      },
      "source": [
        "def convert(path,y):\n",
        "    array=[]\n",
        "    img_cat = []\n",
        "    for img_path in tqdm(path):\n",
        "        img = load_img(img_path, target_size=(150,150))\n",
        "        img = img_to_array(img)\n",
        "        img = img/255.\n",
        "        array.append(img)\n",
        "        img_cat.append(y)\n",
        "    return np.array(array), np.array(img_cat)"
      ],
      "execution_count": null,
      "outputs": []
    },
    {
      "cell_type": "markdown",
      "metadata": {
        "id": "gRIwMxN9d-1t",
        "colab_type": "text"
      },
      "source": [
        "**Accessing all trained images according to their categories**"
      ]
    },
    {
      "cell_type": "markdown",
      "metadata": {
        "id": "8GXhG4YfPM9D",
        "colab_type": "text"
      },
      "source": [
        "1. Using glob to retrieve files in the specific path\n",
        "2. Storing images of each categories in their specific names\n",
        "3. Setting values starting from 0 to each categories available using convert function\n",
        "4. Storing the converted images into trainX, trainY"
      ]
    },
    {
      "cell_type": "code",
      "metadata": {
        "id": "8y5kWJLYaDRy",
        "colab_type": "code",
        "colab": {
          "base_uri": "https://localhost:8080/",
          "height": 34
        },
        "outputId": "61c9cb43-919f-498c-81ae-636825db3ce9"
      },
      "source": [
        "buildings = glob.glob('/content/drive/My Drive/data/Intel_Image_Classification/seg_train/buildings/*')\n",
        "trainX_building, trainY_building  = convert(buildings,0)"
      ],
      "execution_count": null,
      "outputs": [
        {
          "output_type": "stream",
          "text": [
            "100%|██████████| 2191/2191 [21:39<00:00,  1.69it/s]\n"
          ],
          "name": "stderr"
        }
      ]
    },
    {
      "cell_type": "code",
      "metadata": {
        "id": "ugUPyCYvanTy",
        "colab_type": "code",
        "colab": {
          "base_uri": "https://localhost:8080/",
          "height": 34
        },
        "outputId": "309d4979-af07-41e9-d882-8e3f78fe5eec"
      },
      "source": [
        "print('train building shape ', trainX_building.shape, trainY_building.shape)"
      ],
      "execution_count": null,
      "outputs": [
        {
          "output_type": "stream",
          "text": [
            "train building shape  (2191, 150, 150, 3) (2191,)\n"
          ],
          "name": "stdout"
        }
      ]
    },
    {
      "cell_type": "code",
      "metadata": {
        "id": "t_s--JO9bc6k",
        "colab_type": "code",
        "colab": {
          "base_uri": "https://localhost:8080/",
          "height": 34
        },
        "outputId": "0d286f5f-0f8a-4efb-eb30-a86201f45fca"
      },
      "source": [
        "forest = glob.glob('/content/drive/My Drive/data/Intel_Image_Classification/seg_train/forest/*')\n",
        "trainX_forest,trainY_forest  = convert(forest,1)\n"
      ],
      "execution_count": null,
      "outputs": [
        {
          "output_type": "stream",
          "text": [
            "100%|██████████| 2271/2271 [22:30<00:00,  1.68it/s]\n"
          ],
          "name": "stderr"
        }
      ]
    },
    {
      "cell_type": "code",
      "metadata": {
        "id": "sTWRb3fVln78",
        "colab_type": "code",
        "colab": {
          "base_uri": "https://localhost:8080/",
          "height": 34
        },
        "outputId": "b5fef03b-cef0-4b7a-933d-590c4b1ee8d4"
      },
      "source": [
        "glacier = glob.glob('/content/drive/My Drive/data/Intel_Image_Classification/seg_train/glacier/*')\n",
        "trainX_glacier,trainY_glacier  = convert(glacier,2)"
      ],
      "execution_count": null,
      "outputs": [
        {
          "output_type": "stream",
          "text": [
            "100%|██████████| 2404/2404 [22:08<00:00,  1.81it/s]\n"
          ],
          "name": "stderr"
        }
      ]
    },
    {
      "cell_type": "code",
      "metadata": {
        "id": "AtevlRRKl5Sz",
        "colab_type": "code",
        "colab": {
          "base_uri": "https://localhost:8080/",
          "height": 34
        },
        "outputId": "0b39257e-3768-46e3-90f7-bf22eac9de66"
      },
      "source": [
        "mount = glob.glob('/content/drive/My Drive/data/Intel_Image_Classification/seg_train/mountain/*')\n",
        "trainX_mount,trainY_mount  = convert(mount,3)"
      ],
      "execution_count": null,
      "outputs": [
        {
          "output_type": "stream",
          "text": [
            "100%|██████████| 2512/2512 [23:42<00:00,  1.77it/s]\n"
          ],
          "name": "stderr"
        }
      ]
    },
    {
      "cell_type": "code",
      "metadata": {
        "id": "QN6Vrxo-mGup",
        "colab_type": "code",
        "colab": {
          "base_uri": "https://localhost:8080/",
          "height": 34
        },
        "outputId": "70ae0ec1-cc3f-4c73-e343-1fd4a8074582"
      },
      "source": [
        "sea = glob.glob('/content/drive/My Drive/data/Intel_Image_Classification/seg_train/sea/*')\n",
        "trainX_sea,trainY_sea  = convert(sea,4)"
      ],
      "execution_count": null,
      "outputs": [
        {
          "output_type": "stream",
          "text": [
            "100%|██████████| 2274/2274 [22:15<00:00,  1.70it/s]\n"
          ],
          "name": "stderr"
        }
      ]
    },
    {
      "cell_type": "code",
      "metadata": {
        "id": "IMgCBvFwmTyO",
        "colab_type": "code",
        "colab": {
          "base_uri": "https://localhost:8080/",
          "height": 34
        },
        "outputId": "41fa287f-b80d-41a8-d4d9-8dcdfe27907d"
      },
      "source": [
        "street = glob.glob('/content/drive/My Drive/data/Intel_Image_Classification/seg_train/street/*')\n",
        "trainX_street,trainY_street  = convert(street,5)"
      ],
      "execution_count": null,
      "outputs": [
        {
          "output_type": "stream",
          "text": [
            "100%|██████████| 2382/2382 [22:41<00:00,  1.75it/s]\n"
          ],
          "name": "stderr"
        }
      ]
    },
    {
      "cell_type": "markdown",
      "metadata": {
        "id": "5OHkuEJ5P61P",
        "colab_type": "text"
      },
      "source": [
        "**Checking the shape of data**"
      ]
    },
    {
      "cell_type": "code",
      "metadata": {
        "id": "ePkKXSDeldmZ",
        "colab_type": "code",
        "colab": {
          "base_uri": "https://localhost:8080/",
          "height": 119
        },
        "outputId": "cf18508f-ed37-414e-f48c-7c680d24ecb2"
      },
      "source": [
        "print('train building shape ', trainX_building.shape, trainY_building.shape) \n",
        "print('train forest', trainX_forest.shape ,trainY_forest.shape)\n",
        "print('train glacier', trainX_glacier.shape,trainY_glacier.shape)\n",
        "print('train mountain', trainX_mount.shape, trainY_mount.shape)\n",
        "print('train sea',     trainX_sea.shape, trainY_sea.shape)\n",
        "print('train street', trainX_street.shape ,trainY_street.shape)"
      ],
      "execution_count": null,
      "outputs": [
        {
          "output_type": "stream",
          "text": [
            "train building shape  (2191, 150, 150, 3) (2191,)\n",
            "train forest (2271, 150, 150, 3) (2271,)\n",
            "train glacier (2404, 150, 150, 3) (2404,)\n",
            "train mountain (2512, 150, 150, 3) (2512,)\n",
            "train sea (2274, 150, 150, 3) (2274,)\n",
            "train street (2382, 150, 150, 3) (2382,)\n"
          ],
          "name": "stdout"
        }
      ]
    },
    {
      "cell_type": "markdown",
      "metadata": {
        "id": "pFtv47b7QC03",
        "colab_type": "text"
      },
      "source": [
        "**Concatenating all train categories**"
      ]
    },
    {
      "cell_type": "markdown",
      "metadata": {
        "id": "guBpAM4wQKXN",
        "colab_type": "text"
      },
      "source": [
        "1. Using concatenate function we are combining the trainX data of all categorical images into X_train\n",
        "2. Combining trainY data of all images into Y_train"
      ]
    },
    {
      "cell_type": "code",
      "metadata": {
        "id": "UcwVC6KVmiHT",
        "colab_type": "code",
        "colab": {}
      },
      "source": [
        "X_train= np.concatenate((trainX_building,trainX_forest, trainX_glacier,trainX_mount, trainX_sea,trainX_street),axis=0)\n",
        "y_train= np.concatenate((trainY_building,trainY_forest, trainY_glacier,trainY_mount, trainY_sea,trainY_street),axis=0)"
      ],
      "execution_count": null,
      "outputs": []
    },
    {
      "cell_type": "code",
      "metadata": {
        "id": "vgiudnPumhn9",
        "colab_type": "code",
        "colab": {
          "base_uri": "https://localhost:8080/",
          "height": 34
        },
        "outputId": "33444669-fb2f-4030-cba5-f4031765dabe"
      },
      "source": [
        "X_train.shape"
      ],
      "execution_count": null,
      "outputs": [
        {
          "output_type": "execute_result",
          "data": {
            "text/plain": [
              "(14034, 150, 150, 3)"
            ]
          },
          "metadata": {
            "tags": []
          },
          "execution_count": 22
        }
      ]
    },
    {
      "cell_type": "code",
      "metadata": {
        "id": "Jnv966_rmhfx",
        "colab_type": "code",
        "colab": {
          "base_uri": "https://localhost:8080/",
          "height": 34
        },
        "outputId": "6bd892e9-912e-46d1-f913-62bcea6a2c6a"
      },
      "source": [
        "X_train.dtype"
      ],
      "execution_count": null,
      "outputs": [
        {
          "output_type": "execute_result",
          "data": {
            "text/plain": [
              "dtype('float32')"
            ]
          },
          "metadata": {
            "tags": []
          },
          "execution_count": 23
        }
      ]
    },
    {
      "cell_type": "markdown",
      "metadata": {
        "id": "btYDaOUnaPTn",
        "colab_type": "text"
      },
      "source": [
        "**Saving the data into drive in npy format**"
      ]
    },
    {
      "cell_type": "code",
      "metadata": {
        "id": "yrGF9plQmhVC",
        "colab_type": "code",
        "colab": {}
      },
      "source": [
        "from numpy import save\n",
        "\n",
        "save('X_train.npy', X_train)"
      ],
      "execution_count": null,
      "outputs": []
    },
    {
      "cell_type": "code",
      "metadata": {
        "id": "B_fOcQojC_vv",
        "colab_type": "code",
        "colab": {}
      },
      "source": [
        "!cp X_train.npy \"/content/drive/My Drive/data/Intel_Image_Classification/\""
      ],
      "execution_count": null,
      "outputs": []
    },
    {
      "cell_type": "code",
      "metadata": {
        "id": "WK45RQeaB7Ni",
        "colab_type": "code",
        "colab": {}
      },
      "source": [
        "from numpy import load\n",
        "\n",
        "X_train = load('/content/drive/My Drive/data/Intel_Image_Classification/X_train1.npy.npz')\n",
        "\n"
      ],
      "execution_count": null,
      "outputs": []
    },
    {
      "cell_type": "code",
      "metadata": {
        "id": "8vDqLjS7sSk8",
        "colab_type": "code",
        "colab": {}
      },
      "source": [
        "X_train = X_train['arr_0']"
      ],
      "execution_count": null,
      "outputs": []
    },
    {
      "cell_type": "code",
      "metadata": {
        "id": "4byE0LzQCjn1",
        "colab_type": "code",
        "colab": {
          "base_uri": "https://localhost:8080/",
          "height": 34
        },
        "outputId": "d67ef2f0-0237-4027-9210-5e22845ba6c6"
      },
      "source": [
        "X_train.dtype"
      ],
      "execution_count": null,
      "outputs": [
        {
          "output_type": "execute_result",
          "data": {
            "text/plain": [
              "dtype('float32')"
            ]
          },
          "metadata": {
            "tags": []
          },
          "execution_count": 16
        }
      ]
    },
    {
      "cell_type": "code",
      "metadata": {
        "id": "htfGybyAsepz",
        "colab_type": "code",
        "colab": {
          "base_uri": "https://localhost:8080/",
          "height": 34
        },
        "outputId": "1dad2c66-1b46-4726-e12f-a0afe392eea5"
      },
      "source": [
        "X_train.shape"
      ],
      "execution_count": null,
      "outputs": [
        {
          "output_type": "execute_result",
          "data": {
            "text/plain": [
              "(14034, 150, 150, 3)"
            ]
          },
          "metadata": {
            "tags": []
          },
          "execution_count": 17
        }
      ]
    },
    {
      "cell_type": "code",
      "metadata": {
        "id": "wey-9s0EjrWU",
        "colab_type": "code",
        "colab": {}
      },
      "source": [
        "from numpy import load\n",
        "\n",
        "y_train = load('/content/drive/My Drive/data/Intel_Image_Classification/y_train.npy')\n"
      ],
      "execution_count": null,
      "outputs": []
    },
    {
      "cell_type": "code",
      "metadata": {
        "id": "oanGQse-F0Mk",
        "colab_type": "code",
        "colab": {
          "base_uri": "https://localhost:8080/",
          "height": 34
        },
        "outputId": "85846448-7a6a-4115-ee18-e4422f44284c"
      },
      "source": [
        "y_train.shape"
      ],
      "execution_count": null,
      "outputs": [
        {
          "output_type": "execute_result",
          "data": {
            "text/plain": [
              "(14034,)"
            ]
          },
          "metadata": {
            "tags": []
          },
          "execution_count": 22
        }
      ]
    },
    {
      "cell_type": "code",
      "metadata": {
        "id": "cWJNmq7sF0FB",
        "colab_type": "code",
        "colab": {}
      },
      "source": [
        ""
      ],
      "execution_count": null,
      "outputs": []
    },
    {
      "cell_type": "markdown",
      "metadata": {
        "id": "SvTA3MIRs3Ny",
        "colab_type": "text"
      },
      "source": [
        "**Converting test data**"
      ]
    },
    {
      "cell_type": "markdown",
      "metadata": {
        "id": "4sk6u4vlQrEp",
        "colab_type": "text"
      },
      "source": [
        "1. Using the similar steps as performed for train data\n",
        "2. Accessing test data of each categories using glob function\n",
        "3. Storing them in their respective variables"
      ]
    },
    {
      "cell_type": "markdown",
      "metadata": {
        "id": "iETD9IUNQmi3",
        "colab_type": "text"
      },
      "source": [
        ""
      ]
    },
    {
      "cell_type": "code",
      "metadata": {
        "id": "hwm6Gok1F0DX",
        "colab_type": "code",
        "colab": {
          "base_uri": "https://localhost:8080/",
          "height": 34
        },
        "outputId": "822b6448-1b33-44f0-8392-ffa70d8fa44e"
      },
      "source": [
        "buildings_test = glob.glob('/content/drive/My Drive/data/Intel_Image_Classification/seg_test/buildings/*')\n",
        "testX_building, testY_building  = convert(buildings_test,0)"
      ],
      "execution_count": null,
      "outputs": [
        {
          "output_type": "stream",
          "text": [
            "100%|██████████| 437/437 [04:59<00:00,  1.46it/s]\n"
          ],
          "name": "stderr"
        }
      ]
    },
    {
      "cell_type": "code",
      "metadata": {
        "id": "Fmx7QRQgtTQ0",
        "colab_type": "code",
        "colab": {}
      },
      "source": [
        "forest_test = glob.glob('/content/drive/My Drive/data/Intel_Image_Classification/seg_test/forest/*')\n",
        "testX_forest, testY_forest  = convert(forest_test,1)"
      ],
      "execution_count": null,
      "outputs": []
    },
    {
      "cell_type": "code",
      "metadata": {
        "id": "PVClg4UatKmE",
        "colab_type": "code",
        "colab": {}
      },
      "source": [
        "glacier_test = glob.glob('/content/drive/My Drive/data/Intel_Image_Classification/seg_test/glacier/*')\n",
        "testX_glacier, testY_glacier  = convert(glacier_test,2)"
      ],
      "execution_count": null,
      "outputs": []
    },
    {
      "cell_type": "code",
      "metadata": {
        "id": "hPiNbUkjujyF",
        "colab_type": "code",
        "colab": {}
      },
      "source": [
        "mountain_test = glob.glob('/content/drive/My Drive/data/Intel_Image_Classification/seg_test/mountain/*')\n",
        "testX_mountain, testY_mountain  = convert(mountain_test,3)"
      ],
      "execution_count": null,
      "outputs": []
    },
    {
      "cell_type": "code",
      "metadata": {
        "id": "i70vE_XkuyIR",
        "colab_type": "code",
        "colab": {}
      },
      "source": [
        "sea_test = glob.glob('/content/drive/My Drive/data/Intel_Image_Classification/seg_test/sea/*')\n",
        "testX_sea, testY_sea  = convert(sea_test,4)"
      ],
      "execution_count": null,
      "outputs": []
    },
    {
      "cell_type": "code",
      "metadata": {
        "id": "g6CxJXmEvGJm",
        "colab_type": "code",
        "colab": {}
      },
      "source": [
        "street_test = glob.glob('/content/drive/My Drive/data/Intel_Image_Classification/seg_test/street/*')\n",
        "testX_street, testY_street  = convert(street_test,5)"
      ],
      "execution_count": null,
      "outputs": []
    },
    {
      "cell_type": "markdown",
      "metadata": {
        "id": "LoGTuzsuQ6V3",
        "colab_type": "text"
      },
      "source": [
        "**Concatenating all Test data**"
      ]
    },
    {
      "cell_type": "code",
      "metadata": {
        "id": "0nVVMHq6vGIn",
        "colab_type": "code",
        "colab": {}
      },
      "source": [
        "X_test= np.concatenate((testX_building,testX_forest, testX_glacier,testX_mountain, testX_sea,testX_street),axis=0)\n",
        "y_test= np.concatenate((testY_building,testY_forest, testY_glacier,testY_mountain, testY_sea,testY_street),axis=0)"
      ],
      "execution_count": null,
      "outputs": []
    },
    {
      "cell_type": "code",
      "metadata": {
        "id": "c3MItX0Wambo",
        "colab_type": "code",
        "colab": {}
      },
      "source": [
        "from numpy import save\n",
        "\n",
        "save('X_test.npy', X_test)"
      ],
      "execution_count": null,
      "outputs": []
    },
    {
      "cell_type": "code",
      "metadata": {
        "id": "iOoy7yWGarKq",
        "colab_type": "code",
        "colab": {}
      },
      "source": [
        "!cp X_test.npy \"/content/drive/My Drive/data/Intel_Image_Classification/\""
      ],
      "execution_count": null,
      "outputs": []
    },
    {
      "cell_type": "code",
      "metadata": {
        "id": "sBPNIkmIarCA",
        "colab_type": "code",
        "colab": {}
      },
      "source": [
        "from numpy import save\n",
        "\n",
        "save('y_test.npy', y_test)"
      ],
      "execution_count": null,
      "outputs": []
    },
    {
      "cell_type": "code",
      "metadata": {
        "id": "8p1yJo9Gaq1b",
        "colab_type": "code",
        "colab": {}
      },
      "source": [
        "!cp y_test.npy \"/content/drive/My Drive/data/Intel_Image_Classification/\""
      ],
      "execution_count": null,
      "outputs": []
    },
    {
      "cell_type": "code",
      "metadata": {
        "id": "7wtFhOfJwZYV",
        "colab_type": "code",
        "colab": {
          "base_uri": "https://localhost:8080/",
          "height": 34
        },
        "outputId": "9129c093-fd95-4246-c242-f9163186a04b"
      },
      "source": [
        "X_train.shape, X_test.shape, y_train.shape, y_test.shape"
      ],
      "execution_count": null,
      "outputs": [
        {
          "output_type": "execute_result",
          "data": {
            "text/plain": [
              "((14034, 150, 150, 3), (3000, 150, 150, 3), (14034,), (3000,))"
            ]
          },
          "metadata": {
            "tags": []
          },
          "execution_count": 32
        }
      ]
    },
    {
      "cell_type": "markdown",
      "metadata": {
        "id": "SyfNqBUURP12",
        "colab_type": "text"
      },
      "source": [
        "**Converting label data to one-hot vector** "
      ]
    },
    {
      "cell_type": "markdown",
      "metadata": {
        "id": "YXbhONoyRXnn",
        "colab_type": "text"
      },
      "source": [
        "1. We use to_categorical to convert our array into one-hot encoded vectors\n",
        "2. We encode both y_train and y_test"
      ]
    },
    {
      "cell_type": "code",
      "metadata": {
        "id": "eea46BItyzQb",
        "colab_type": "code",
        "colab": {
          "base_uri": "https://localhost:8080/",
          "height": 34
        },
        "outputId": "bf70729f-5056-4f9f-98fc-b48a043a2820"
      },
      "source": [
        "from tensorflow.keras.utils import to_categorical\n",
        "\n",
        "y_train = to_categorical(y_train)\n",
        "y_test = to_categorical(y_test)\n",
        "y_train.shape,y_test.shape\n",
        "y_test[1]"
      ],
      "execution_count": null,
      "outputs": [
        {
          "output_type": "execute_result",
          "data": {
            "text/plain": [
              "array([1., 0., 0., 0., 0., 0.], dtype=float32)"
            ]
          },
          "metadata": {
            "tags": []
          },
          "execution_count": 33
        }
      ]
    },
    {
      "cell_type": "markdown",
      "metadata": {
        "id": "tzOo-anmJwXS",
        "colab_type": "text"
      },
      "source": [
        "**RESNET50** **with inbuilt pretrained weights by the imagenet**"
      ]
    },
    {
      "cell_type": "code",
      "metadata": {
        "id": "fDvJTAkuyy56",
        "colab_type": "code",
        "colab": {}
      },
      "source": [
        "from tensorflow.keras.applications.resnet50 import ResNet50"
      ],
      "execution_count": null,
      "outputs": []
    },
    {
      "cell_type": "markdown",
      "metadata": {
        "id": "71MI4PBTR0Vg",
        "colab_type": "text"
      },
      "source": [
        "1. Applying the state-of-the-art algorithm ResNet50 for our data by simply specifying ResNet50 for the input data\n",
        "2. We take pretrained weights from the imagenet\n",
        "3. We use include_top= False to modify output according to our requirement"
      ]
    },
    {
      "cell_type": "code",
      "metadata": {
        "id": "eKezqiURvF5P",
        "colab_type": "code",
        "colab": {}
      },
      "source": [
        "resnet = ResNet50(input_shape= (150, 150, 3), weights='imagenet', include_top=False )"
      ],
      "execution_count": null,
      "outputs": []
    },
    {
      "cell_type": "markdown",
      "metadata": {
        "id": "AjKDpay4SRXR",
        "colab_type": "text"
      },
      "source": [
        "1. We use layer.trainable=False to avoid training of the whole dataset since they are already trained\n",
        "2. We directly use the model without training it"
      ]
    },
    {
      "cell_type": "code",
      "metadata": {
        "id": "9CnvRH3BzCWC",
        "colab_type": "code",
        "colab": {}
      },
      "source": [
        "for layer in resnet.layers:\n",
        "    layer.trainable = False"
      ],
      "execution_count": null,
      "outputs": []
    },
    {
      "cell_type": "code",
      "metadata": {
        "id": "2261L1h_zCIw",
        "colab_type": "code",
        "colab": {}
      },
      "source": [
        "resnet.trainable = False"
      ],
      "execution_count": null,
      "outputs": []
    },
    {
      "cell_type": "markdown",
      "metadata": {
        "id": "JeiKTASkShhh",
        "colab_type": "text"
      },
      "source": [
        "1. Since the softmax is applied on 1D , we Flatten the data that is obtained from above layers using Flatten function"
      ]
    },
    {
      "cell_type": "code",
      "metadata": {
        "id": "cTanth9ezB3f",
        "colab_type": "code",
        "colab": {}
      },
      "source": [
        "x = Flatten()(resnet.output)"
      ],
      "execution_count": null,
      "outputs": []
    },
    {
      "cell_type": "markdown",
      "metadata": {
        "id": "ERZNQyvLSxm2",
        "colab_type": "text"
      },
      "source": [
        "1. Dense function is used to get a fully connected layer\n",
        "2. Activation is applied as Softmax as value is given as 6, indicating the number of categories our data belong to"
      ]
    },
    {
      "cell_type": "code",
      "metadata": {
        "id": "k7TjH7y9zddx",
        "colab_type": "code",
        "colab": {}
      },
      "source": [
        "prediction = Dense(6, activation='softmax')(x)\n",
        "\n",
        "# create a model object\n",
        "model = Model(inputs=resnet.input, outputs=prediction)\n",
        "   "
      ],
      "execution_count": null,
      "outputs": []
    },
    {
      "cell_type": "code",
      "metadata": {
        "id": "eHCI97hLzdYh",
        "colab_type": "code",
        "colab": {
          "base_uri": "https://localhost:8080/",
          "height": 1000
        },
        "outputId": "e26aae49-4ce2-46ea-989b-f6b1bc4c7e6f"
      },
      "source": [
        "model.summary()"
      ],
      "execution_count": null,
      "outputs": [
        {
          "output_type": "stream",
          "text": [
            "Model: \"model_4\"\n",
            "__________________________________________________________________________________________________\n",
            "Layer (type)                    Output Shape         Param #     Connected to                     \n",
            "==================================================================================================\n",
            "input_6 (InputLayer)            [(None, 150, 150, 3) 0                                            \n",
            "__________________________________________________________________________________________________\n",
            "conv1_pad (ZeroPadding2D)       (None, 156, 156, 3)  0           input_6[0][0]                    \n",
            "__________________________________________________________________________________________________\n",
            "conv1_conv (Conv2D)             (None, 75, 75, 64)   9472        conv1_pad[0][0]                  \n",
            "__________________________________________________________________________________________________\n",
            "conv1_bn (BatchNormalization)   (None, 75, 75, 64)   256         conv1_conv[0][0]                 \n",
            "__________________________________________________________________________________________________\n",
            "conv1_relu (Activation)         (None, 75, 75, 64)   0           conv1_bn[0][0]                   \n",
            "__________________________________________________________________________________________________\n",
            "pool1_pad (ZeroPadding2D)       (None, 77, 77, 64)   0           conv1_relu[0][0]                 \n",
            "__________________________________________________________________________________________________\n",
            "pool1_pool (MaxPooling2D)       (None, 38, 38, 64)   0           pool1_pad[0][0]                  \n",
            "__________________________________________________________________________________________________\n",
            "conv2_block1_1_conv (Conv2D)    (None, 38, 38, 64)   4160        pool1_pool[0][0]                 \n",
            "__________________________________________________________________________________________________\n",
            "conv2_block1_1_bn (BatchNormali (None, 38, 38, 64)   256         conv2_block1_1_conv[0][0]        \n",
            "__________________________________________________________________________________________________\n",
            "conv2_block1_1_relu (Activation (None, 38, 38, 64)   0           conv2_block1_1_bn[0][0]          \n",
            "__________________________________________________________________________________________________\n",
            "conv2_block1_2_conv (Conv2D)    (None, 38, 38, 64)   36928       conv2_block1_1_relu[0][0]        \n",
            "__________________________________________________________________________________________________\n",
            "conv2_block1_2_bn (BatchNormali (None, 38, 38, 64)   256         conv2_block1_2_conv[0][0]        \n",
            "__________________________________________________________________________________________________\n",
            "conv2_block1_2_relu (Activation (None, 38, 38, 64)   0           conv2_block1_2_bn[0][0]          \n",
            "__________________________________________________________________________________________________\n",
            "conv2_block1_0_conv (Conv2D)    (None, 38, 38, 256)  16640       pool1_pool[0][0]                 \n",
            "__________________________________________________________________________________________________\n",
            "conv2_block1_3_conv (Conv2D)    (None, 38, 38, 256)  16640       conv2_block1_2_relu[0][0]        \n",
            "__________________________________________________________________________________________________\n",
            "conv2_block1_0_bn (BatchNormali (None, 38, 38, 256)  1024        conv2_block1_0_conv[0][0]        \n",
            "__________________________________________________________________________________________________\n",
            "conv2_block1_3_bn (BatchNormali (None, 38, 38, 256)  1024        conv2_block1_3_conv[0][0]        \n",
            "__________________________________________________________________________________________________\n",
            "conv2_block1_add (Add)          (None, 38, 38, 256)  0           conv2_block1_0_bn[0][0]          \n",
            "                                                                 conv2_block1_3_bn[0][0]          \n",
            "__________________________________________________________________________________________________\n",
            "conv2_block1_out (Activation)   (None, 38, 38, 256)  0           conv2_block1_add[0][0]           \n",
            "__________________________________________________________________________________________________\n",
            "conv2_block2_1_conv (Conv2D)    (None, 38, 38, 64)   16448       conv2_block1_out[0][0]           \n",
            "__________________________________________________________________________________________________\n",
            "conv2_block2_1_bn (BatchNormali (None, 38, 38, 64)   256         conv2_block2_1_conv[0][0]        \n",
            "__________________________________________________________________________________________________\n",
            "conv2_block2_1_relu (Activation (None, 38, 38, 64)   0           conv2_block2_1_bn[0][0]          \n",
            "__________________________________________________________________________________________________\n",
            "conv2_block2_2_conv (Conv2D)    (None, 38, 38, 64)   36928       conv2_block2_1_relu[0][0]        \n",
            "__________________________________________________________________________________________________\n",
            "conv2_block2_2_bn (BatchNormali (None, 38, 38, 64)   256         conv2_block2_2_conv[0][0]        \n",
            "__________________________________________________________________________________________________\n",
            "conv2_block2_2_relu (Activation (None, 38, 38, 64)   0           conv2_block2_2_bn[0][0]          \n",
            "__________________________________________________________________________________________________\n",
            "conv2_block2_3_conv (Conv2D)    (None, 38, 38, 256)  16640       conv2_block2_2_relu[0][0]        \n",
            "__________________________________________________________________________________________________\n",
            "conv2_block2_3_bn (BatchNormali (None, 38, 38, 256)  1024        conv2_block2_3_conv[0][0]        \n",
            "__________________________________________________________________________________________________\n",
            "conv2_block2_add (Add)          (None, 38, 38, 256)  0           conv2_block1_out[0][0]           \n",
            "                                                                 conv2_block2_3_bn[0][0]          \n",
            "__________________________________________________________________________________________________\n",
            "conv2_block2_out (Activation)   (None, 38, 38, 256)  0           conv2_block2_add[0][0]           \n",
            "__________________________________________________________________________________________________\n",
            "conv2_block3_1_conv (Conv2D)    (None, 38, 38, 64)   16448       conv2_block2_out[0][0]           \n",
            "__________________________________________________________________________________________________\n",
            "conv2_block3_1_bn (BatchNormali (None, 38, 38, 64)   256         conv2_block3_1_conv[0][0]        \n",
            "__________________________________________________________________________________________________\n",
            "conv2_block3_1_relu (Activation (None, 38, 38, 64)   0           conv2_block3_1_bn[0][0]          \n",
            "__________________________________________________________________________________________________\n",
            "conv2_block3_2_conv (Conv2D)    (None, 38, 38, 64)   36928       conv2_block3_1_relu[0][0]        \n",
            "__________________________________________________________________________________________________\n",
            "conv2_block3_2_bn (BatchNormali (None, 38, 38, 64)   256         conv2_block3_2_conv[0][0]        \n",
            "__________________________________________________________________________________________________\n",
            "conv2_block3_2_relu (Activation (None, 38, 38, 64)   0           conv2_block3_2_bn[0][0]          \n",
            "__________________________________________________________________________________________________\n",
            "conv2_block3_3_conv (Conv2D)    (None, 38, 38, 256)  16640       conv2_block3_2_relu[0][0]        \n",
            "__________________________________________________________________________________________________\n",
            "conv2_block3_3_bn (BatchNormali (None, 38, 38, 256)  1024        conv2_block3_3_conv[0][0]        \n",
            "__________________________________________________________________________________________________\n",
            "conv2_block3_add (Add)          (None, 38, 38, 256)  0           conv2_block2_out[0][0]           \n",
            "                                                                 conv2_block3_3_bn[0][0]          \n",
            "__________________________________________________________________________________________________\n",
            "conv2_block3_out (Activation)   (None, 38, 38, 256)  0           conv2_block3_add[0][0]           \n",
            "__________________________________________________________________________________________________\n",
            "conv3_block1_1_conv (Conv2D)    (None, 19, 19, 128)  32896       conv2_block3_out[0][0]           \n",
            "__________________________________________________________________________________________________\n",
            "conv3_block1_1_bn (BatchNormali (None, 19, 19, 128)  512         conv3_block1_1_conv[0][0]        \n",
            "__________________________________________________________________________________________________\n",
            "conv3_block1_1_relu (Activation (None, 19, 19, 128)  0           conv3_block1_1_bn[0][0]          \n",
            "__________________________________________________________________________________________________\n",
            "conv3_block1_2_conv (Conv2D)    (None, 19, 19, 128)  147584      conv3_block1_1_relu[0][0]        \n",
            "__________________________________________________________________________________________________\n",
            "conv3_block1_2_bn (BatchNormali (None, 19, 19, 128)  512         conv3_block1_2_conv[0][0]        \n",
            "__________________________________________________________________________________________________\n",
            "conv3_block1_2_relu (Activation (None, 19, 19, 128)  0           conv3_block1_2_bn[0][0]          \n",
            "__________________________________________________________________________________________________\n",
            "conv3_block1_0_conv (Conv2D)    (None, 19, 19, 512)  131584      conv2_block3_out[0][0]           \n",
            "__________________________________________________________________________________________________\n",
            "conv3_block1_3_conv (Conv2D)    (None, 19, 19, 512)  66048       conv3_block1_2_relu[0][0]        \n",
            "__________________________________________________________________________________________________\n",
            "conv3_block1_0_bn (BatchNormali (None, 19, 19, 512)  2048        conv3_block1_0_conv[0][0]        \n",
            "__________________________________________________________________________________________________\n",
            "conv3_block1_3_bn (BatchNormali (None, 19, 19, 512)  2048        conv3_block1_3_conv[0][0]        \n",
            "__________________________________________________________________________________________________\n",
            "conv3_block1_add (Add)          (None, 19, 19, 512)  0           conv3_block1_0_bn[0][0]          \n",
            "                                                                 conv3_block1_3_bn[0][0]          \n",
            "__________________________________________________________________________________________________\n",
            "conv3_block1_out (Activation)   (None, 19, 19, 512)  0           conv3_block1_add[0][0]           \n",
            "__________________________________________________________________________________________________\n",
            "conv3_block2_1_conv (Conv2D)    (None, 19, 19, 128)  65664       conv3_block1_out[0][0]           \n",
            "__________________________________________________________________________________________________\n",
            "conv3_block2_1_bn (BatchNormali (None, 19, 19, 128)  512         conv3_block2_1_conv[0][0]        \n",
            "__________________________________________________________________________________________________\n",
            "conv3_block2_1_relu (Activation (None, 19, 19, 128)  0           conv3_block2_1_bn[0][0]          \n",
            "__________________________________________________________________________________________________\n",
            "conv3_block2_2_conv (Conv2D)    (None, 19, 19, 128)  147584      conv3_block2_1_relu[0][0]        \n",
            "__________________________________________________________________________________________________\n",
            "conv3_block2_2_bn (BatchNormali (None, 19, 19, 128)  512         conv3_block2_2_conv[0][0]        \n",
            "__________________________________________________________________________________________________\n",
            "conv3_block2_2_relu (Activation (None, 19, 19, 128)  0           conv3_block2_2_bn[0][0]          \n",
            "__________________________________________________________________________________________________\n",
            "conv3_block2_3_conv (Conv2D)    (None, 19, 19, 512)  66048       conv3_block2_2_relu[0][0]        \n",
            "__________________________________________________________________________________________________\n",
            "conv3_block2_3_bn (BatchNormali (None, 19, 19, 512)  2048        conv3_block2_3_conv[0][0]        \n",
            "__________________________________________________________________________________________________\n",
            "conv3_block2_add (Add)          (None, 19, 19, 512)  0           conv3_block1_out[0][0]           \n",
            "                                                                 conv3_block2_3_bn[0][0]          \n",
            "__________________________________________________________________________________________________\n",
            "conv3_block2_out (Activation)   (None, 19, 19, 512)  0           conv3_block2_add[0][0]           \n",
            "__________________________________________________________________________________________________\n",
            "conv3_block3_1_conv (Conv2D)    (None, 19, 19, 128)  65664       conv3_block2_out[0][0]           \n",
            "__________________________________________________________________________________________________\n",
            "conv3_block3_1_bn (BatchNormali (None, 19, 19, 128)  512         conv3_block3_1_conv[0][0]        \n",
            "__________________________________________________________________________________________________\n",
            "conv3_block3_1_relu (Activation (None, 19, 19, 128)  0           conv3_block3_1_bn[0][0]          \n",
            "__________________________________________________________________________________________________\n",
            "conv3_block3_2_conv (Conv2D)    (None, 19, 19, 128)  147584      conv3_block3_1_relu[0][0]        \n",
            "__________________________________________________________________________________________________\n",
            "conv3_block3_2_bn (BatchNormali (None, 19, 19, 128)  512         conv3_block3_2_conv[0][0]        \n",
            "__________________________________________________________________________________________________\n",
            "conv3_block3_2_relu (Activation (None, 19, 19, 128)  0           conv3_block3_2_bn[0][0]          \n",
            "__________________________________________________________________________________________________\n",
            "conv3_block3_3_conv (Conv2D)    (None, 19, 19, 512)  66048       conv3_block3_2_relu[0][0]        \n",
            "__________________________________________________________________________________________________\n",
            "conv3_block3_3_bn (BatchNormali (None, 19, 19, 512)  2048        conv3_block3_3_conv[0][0]        \n",
            "__________________________________________________________________________________________________\n",
            "conv3_block3_add (Add)          (None, 19, 19, 512)  0           conv3_block2_out[0][0]           \n",
            "                                                                 conv3_block3_3_bn[0][0]          \n",
            "__________________________________________________________________________________________________\n",
            "conv3_block3_out (Activation)   (None, 19, 19, 512)  0           conv3_block3_add[0][0]           \n",
            "__________________________________________________________________________________________________\n",
            "conv3_block4_1_conv (Conv2D)    (None, 19, 19, 128)  65664       conv3_block3_out[0][0]           \n",
            "__________________________________________________________________________________________________\n",
            "conv3_block4_1_bn (BatchNormali (None, 19, 19, 128)  512         conv3_block4_1_conv[0][0]        \n",
            "__________________________________________________________________________________________________\n",
            "conv3_block4_1_relu (Activation (None, 19, 19, 128)  0           conv3_block4_1_bn[0][0]          \n",
            "__________________________________________________________________________________________________\n",
            "conv3_block4_2_conv (Conv2D)    (None, 19, 19, 128)  147584      conv3_block4_1_relu[0][0]        \n",
            "__________________________________________________________________________________________________\n",
            "conv3_block4_2_bn (BatchNormali (None, 19, 19, 128)  512         conv3_block4_2_conv[0][0]        \n",
            "__________________________________________________________________________________________________\n",
            "conv3_block4_2_relu (Activation (None, 19, 19, 128)  0           conv3_block4_2_bn[0][0]          \n",
            "__________________________________________________________________________________________________\n",
            "conv3_block4_3_conv (Conv2D)    (None, 19, 19, 512)  66048       conv3_block4_2_relu[0][0]        \n",
            "__________________________________________________________________________________________________\n",
            "conv3_block4_3_bn (BatchNormali (None, 19, 19, 512)  2048        conv3_block4_3_conv[0][0]        \n",
            "__________________________________________________________________________________________________\n",
            "conv3_block4_add (Add)          (None, 19, 19, 512)  0           conv3_block3_out[0][0]           \n",
            "                                                                 conv3_block4_3_bn[0][0]          \n",
            "__________________________________________________________________________________________________\n",
            "conv3_block4_out (Activation)   (None, 19, 19, 512)  0           conv3_block4_add[0][0]           \n",
            "__________________________________________________________________________________________________\n",
            "conv4_block1_1_conv (Conv2D)    (None, 10, 10, 256)  131328      conv3_block4_out[0][0]           \n",
            "__________________________________________________________________________________________________\n",
            "conv4_block1_1_bn (BatchNormali (None, 10, 10, 256)  1024        conv4_block1_1_conv[0][0]        \n",
            "__________________________________________________________________________________________________\n",
            "conv4_block1_1_relu (Activation (None, 10, 10, 256)  0           conv4_block1_1_bn[0][0]          \n",
            "__________________________________________________________________________________________________\n",
            "conv4_block1_2_conv (Conv2D)    (None, 10, 10, 256)  590080      conv4_block1_1_relu[0][0]        \n",
            "__________________________________________________________________________________________________\n",
            "conv4_block1_2_bn (BatchNormali (None, 10, 10, 256)  1024        conv4_block1_2_conv[0][0]        \n",
            "__________________________________________________________________________________________________\n",
            "conv4_block1_2_relu (Activation (None, 10, 10, 256)  0           conv4_block1_2_bn[0][0]          \n",
            "__________________________________________________________________________________________________\n",
            "conv4_block1_0_conv (Conv2D)    (None, 10, 10, 1024) 525312      conv3_block4_out[0][0]           \n",
            "__________________________________________________________________________________________________\n",
            "conv4_block1_3_conv (Conv2D)    (None, 10, 10, 1024) 263168      conv4_block1_2_relu[0][0]        \n",
            "__________________________________________________________________________________________________\n",
            "conv4_block1_0_bn (BatchNormali (None, 10, 10, 1024) 4096        conv4_block1_0_conv[0][0]        \n",
            "__________________________________________________________________________________________________\n",
            "conv4_block1_3_bn (BatchNormali (None, 10, 10, 1024) 4096        conv4_block1_3_conv[0][0]        \n",
            "__________________________________________________________________________________________________\n",
            "conv4_block1_add (Add)          (None, 10, 10, 1024) 0           conv4_block1_0_bn[0][0]          \n",
            "                                                                 conv4_block1_3_bn[0][0]          \n",
            "__________________________________________________________________________________________________\n",
            "conv4_block1_out (Activation)   (None, 10, 10, 1024) 0           conv4_block1_add[0][0]           \n",
            "__________________________________________________________________________________________________\n",
            "conv4_block2_1_conv (Conv2D)    (None, 10, 10, 256)  262400      conv4_block1_out[0][0]           \n",
            "__________________________________________________________________________________________________\n",
            "conv4_block2_1_bn (BatchNormali (None, 10, 10, 256)  1024        conv4_block2_1_conv[0][0]        \n",
            "__________________________________________________________________________________________________\n",
            "conv4_block2_1_relu (Activation (None, 10, 10, 256)  0           conv4_block2_1_bn[0][0]          \n",
            "__________________________________________________________________________________________________\n",
            "conv4_block2_2_conv (Conv2D)    (None, 10, 10, 256)  590080      conv4_block2_1_relu[0][0]        \n",
            "__________________________________________________________________________________________________\n",
            "conv4_block2_2_bn (BatchNormali (None, 10, 10, 256)  1024        conv4_block2_2_conv[0][0]        \n",
            "__________________________________________________________________________________________________\n",
            "conv4_block2_2_relu (Activation (None, 10, 10, 256)  0           conv4_block2_2_bn[0][0]          \n",
            "__________________________________________________________________________________________________\n",
            "conv4_block2_3_conv (Conv2D)    (None, 10, 10, 1024) 263168      conv4_block2_2_relu[0][0]        \n",
            "__________________________________________________________________________________________________\n",
            "conv4_block2_3_bn (BatchNormali (None, 10, 10, 1024) 4096        conv4_block2_3_conv[0][0]        \n",
            "__________________________________________________________________________________________________\n",
            "conv4_block2_add (Add)          (None, 10, 10, 1024) 0           conv4_block1_out[0][0]           \n",
            "                                                                 conv4_block2_3_bn[0][0]          \n",
            "__________________________________________________________________________________________________\n",
            "conv4_block2_out (Activation)   (None, 10, 10, 1024) 0           conv4_block2_add[0][0]           \n",
            "__________________________________________________________________________________________________\n",
            "conv4_block3_1_conv (Conv2D)    (None, 10, 10, 256)  262400      conv4_block2_out[0][0]           \n",
            "__________________________________________________________________________________________________\n",
            "conv4_block3_1_bn (BatchNormali (None, 10, 10, 256)  1024        conv4_block3_1_conv[0][0]        \n",
            "__________________________________________________________________________________________________\n",
            "conv4_block3_1_relu (Activation (None, 10, 10, 256)  0           conv4_block3_1_bn[0][0]          \n",
            "__________________________________________________________________________________________________\n",
            "conv4_block3_2_conv (Conv2D)    (None, 10, 10, 256)  590080      conv4_block3_1_relu[0][0]        \n",
            "__________________________________________________________________________________________________\n",
            "conv4_block3_2_bn (BatchNormali (None, 10, 10, 256)  1024        conv4_block3_2_conv[0][0]        \n",
            "__________________________________________________________________________________________________\n",
            "conv4_block3_2_relu (Activation (None, 10, 10, 256)  0           conv4_block3_2_bn[0][0]          \n",
            "__________________________________________________________________________________________________\n",
            "conv4_block3_3_conv (Conv2D)    (None, 10, 10, 1024) 263168      conv4_block3_2_relu[0][0]        \n",
            "__________________________________________________________________________________________________\n",
            "conv4_block3_3_bn (BatchNormali (None, 10, 10, 1024) 4096        conv4_block3_3_conv[0][0]        \n",
            "__________________________________________________________________________________________________\n",
            "conv4_block3_add (Add)          (None, 10, 10, 1024) 0           conv4_block2_out[0][0]           \n",
            "                                                                 conv4_block3_3_bn[0][0]          \n",
            "__________________________________________________________________________________________________\n",
            "conv4_block3_out (Activation)   (None, 10, 10, 1024) 0           conv4_block3_add[0][0]           \n",
            "__________________________________________________________________________________________________\n",
            "conv4_block4_1_conv (Conv2D)    (None, 10, 10, 256)  262400      conv4_block3_out[0][0]           \n",
            "__________________________________________________________________________________________________\n",
            "conv4_block4_1_bn (BatchNormali (None, 10, 10, 256)  1024        conv4_block4_1_conv[0][0]        \n",
            "__________________________________________________________________________________________________\n",
            "conv4_block4_1_relu (Activation (None, 10, 10, 256)  0           conv4_block4_1_bn[0][0]          \n",
            "__________________________________________________________________________________________________\n",
            "conv4_block4_2_conv (Conv2D)    (None, 10, 10, 256)  590080      conv4_block4_1_relu[0][0]        \n",
            "__________________________________________________________________________________________________\n",
            "conv4_block4_2_bn (BatchNormali (None, 10, 10, 256)  1024        conv4_block4_2_conv[0][0]        \n",
            "__________________________________________________________________________________________________\n",
            "conv4_block4_2_relu (Activation (None, 10, 10, 256)  0           conv4_block4_2_bn[0][0]          \n",
            "__________________________________________________________________________________________________\n",
            "conv4_block4_3_conv (Conv2D)    (None, 10, 10, 1024) 263168      conv4_block4_2_relu[0][0]        \n",
            "__________________________________________________________________________________________________\n",
            "conv4_block4_3_bn (BatchNormali (None, 10, 10, 1024) 4096        conv4_block4_3_conv[0][0]        \n",
            "__________________________________________________________________________________________________\n",
            "conv4_block4_add (Add)          (None, 10, 10, 1024) 0           conv4_block3_out[0][0]           \n",
            "                                                                 conv4_block4_3_bn[0][0]          \n",
            "__________________________________________________________________________________________________\n",
            "conv4_block4_out (Activation)   (None, 10, 10, 1024) 0           conv4_block4_add[0][0]           \n",
            "__________________________________________________________________________________________________\n",
            "conv4_block5_1_conv (Conv2D)    (None, 10, 10, 256)  262400      conv4_block4_out[0][0]           \n",
            "__________________________________________________________________________________________________\n",
            "conv4_block5_1_bn (BatchNormali (None, 10, 10, 256)  1024        conv4_block5_1_conv[0][0]        \n",
            "__________________________________________________________________________________________________\n",
            "conv4_block5_1_relu (Activation (None, 10, 10, 256)  0           conv4_block5_1_bn[0][0]          \n",
            "__________________________________________________________________________________________________\n",
            "conv4_block5_2_conv (Conv2D)    (None, 10, 10, 256)  590080      conv4_block5_1_relu[0][0]        \n",
            "__________________________________________________________________________________________________\n",
            "conv4_block5_2_bn (BatchNormali (None, 10, 10, 256)  1024        conv4_block5_2_conv[0][0]        \n",
            "__________________________________________________________________________________________________\n",
            "conv4_block5_2_relu (Activation (None, 10, 10, 256)  0           conv4_block5_2_bn[0][0]          \n",
            "__________________________________________________________________________________________________\n",
            "conv4_block5_3_conv (Conv2D)    (None, 10, 10, 1024) 263168      conv4_block5_2_relu[0][0]        \n",
            "__________________________________________________________________________________________________\n",
            "conv4_block5_3_bn (BatchNormali (None, 10, 10, 1024) 4096        conv4_block5_3_conv[0][0]        \n",
            "__________________________________________________________________________________________________\n",
            "conv4_block5_add (Add)          (None, 10, 10, 1024) 0           conv4_block4_out[0][0]           \n",
            "                                                                 conv4_block5_3_bn[0][0]          \n",
            "__________________________________________________________________________________________________\n",
            "conv4_block5_out (Activation)   (None, 10, 10, 1024) 0           conv4_block5_add[0][0]           \n",
            "__________________________________________________________________________________________________\n",
            "conv4_block6_1_conv (Conv2D)    (None, 10, 10, 256)  262400      conv4_block5_out[0][0]           \n",
            "__________________________________________________________________________________________________\n",
            "conv4_block6_1_bn (BatchNormali (None, 10, 10, 256)  1024        conv4_block6_1_conv[0][0]        \n",
            "__________________________________________________________________________________________________\n",
            "conv4_block6_1_relu (Activation (None, 10, 10, 256)  0           conv4_block6_1_bn[0][0]          \n",
            "__________________________________________________________________________________________________\n",
            "conv4_block6_2_conv (Conv2D)    (None, 10, 10, 256)  590080      conv4_block6_1_relu[0][0]        \n",
            "__________________________________________________________________________________________________\n",
            "conv4_block6_2_bn (BatchNormali (None, 10, 10, 256)  1024        conv4_block6_2_conv[0][0]        \n",
            "__________________________________________________________________________________________________\n",
            "conv4_block6_2_relu (Activation (None, 10, 10, 256)  0           conv4_block6_2_bn[0][0]          \n",
            "__________________________________________________________________________________________________\n",
            "conv4_block6_3_conv (Conv2D)    (None, 10, 10, 1024) 263168      conv4_block6_2_relu[0][0]        \n",
            "__________________________________________________________________________________________________\n",
            "conv4_block6_3_bn (BatchNormali (None, 10, 10, 1024) 4096        conv4_block6_3_conv[0][0]        \n",
            "__________________________________________________________________________________________________\n",
            "conv4_block6_add (Add)          (None, 10, 10, 1024) 0           conv4_block5_out[0][0]           \n",
            "                                                                 conv4_block6_3_bn[0][0]          \n",
            "__________________________________________________________________________________________________\n",
            "conv4_block6_out (Activation)   (None, 10, 10, 1024) 0           conv4_block6_add[0][0]           \n",
            "__________________________________________________________________________________________________\n",
            "conv5_block1_1_conv (Conv2D)    (None, 5, 5, 512)    524800      conv4_block6_out[0][0]           \n",
            "__________________________________________________________________________________________________\n",
            "conv5_block1_1_bn (BatchNormali (None, 5, 5, 512)    2048        conv5_block1_1_conv[0][0]        \n",
            "__________________________________________________________________________________________________\n",
            "conv5_block1_1_relu (Activation (None, 5, 5, 512)    0           conv5_block1_1_bn[0][0]          \n",
            "__________________________________________________________________________________________________\n",
            "conv5_block1_2_conv (Conv2D)    (None, 5, 5, 512)    2359808     conv5_block1_1_relu[0][0]        \n",
            "__________________________________________________________________________________________________\n",
            "conv5_block1_2_bn (BatchNormali (None, 5, 5, 512)    2048        conv5_block1_2_conv[0][0]        \n",
            "__________________________________________________________________________________________________\n",
            "conv5_block1_2_relu (Activation (None, 5, 5, 512)    0           conv5_block1_2_bn[0][0]          \n",
            "__________________________________________________________________________________________________\n",
            "conv5_block1_0_conv (Conv2D)    (None, 5, 5, 2048)   2099200     conv4_block6_out[0][0]           \n",
            "__________________________________________________________________________________________________\n",
            "conv5_block1_3_conv (Conv2D)    (None, 5, 5, 2048)   1050624     conv5_block1_2_relu[0][0]        \n",
            "__________________________________________________________________________________________________\n",
            "conv5_block1_0_bn (BatchNormali (None, 5, 5, 2048)   8192        conv5_block1_0_conv[0][0]        \n",
            "__________________________________________________________________________________________________\n",
            "conv5_block1_3_bn (BatchNormali (None, 5, 5, 2048)   8192        conv5_block1_3_conv[0][0]        \n",
            "__________________________________________________________________________________________________\n",
            "conv5_block1_add (Add)          (None, 5, 5, 2048)   0           conv5_block1_0_bn[0][0]          \n",
            "                                                                 conv5_block1_3_bn[0][0]          \n",
            "__________________________________________________________________________________________________\n",
            "conv5_block1_out (Activation)   (None, 5, 5, 2048)   0           conv5_block1_add[0][0]           \n",
            "__________________________________________________________________________________________________\n",
            "conv5_block2_1_conv (Conv2D)    (None, 5, 5, 512)    1049088     conv5_block1_out[0][0]           \n",
            "__________________________________________________________________________________________________\n",
            "conv5_block2_1_bn (BatchNormali (None, 5, 5, 512)    2048        conv5_block2_1_conv[0][0]        \n",
            "__________________________________________________________________________________________________\n",
            "conv5_block2_1_relu (Activation (None, 5, 5, 512)    0           conv5_block2_1_bn[0][0]          \n",
            "__________________________________________________________________________________________________\n",
            "conv5_block2_2_conv (Conv2D)    (None, 5, 5, 512)    2359808     conv5_block2_1_relu[0][0]        \n",
            "__________________________________________________________________________________________________\n",
            "conv5_block2_2_bn (BatchNormali (None, 5, 5, 512)    2048        conv5_block2_2_conv[0][0]        \n",
            "__________________________________________________________________________________________________\n",
            "conv5_block2_2_relu (Activation (None, 5, 5, 512)    0           conv5_block2_2_bn[0][0]          \n",
            "__________________________________________________________________________________________________\n",
            "conv5_block2_3_conv (Conv2D)    (None, 5, 5, 2048)   1050624     conv5_block2_2_relu[0][0]        \n",
            "__________________________________________________________________________________________________\n",
            "conv5_block2_3_bn (BatchNormali (None, 5, 5, 2048)   8192        conv5_block2_3_conv[0][0]        \n",
            "__________________________________________________________________________________________________\n",
            "conv5_block2_add (Add)          (None, 5, 5, 2048)   0           conv5_block1_out[0][0]           \n",
            "                                                                 conv5_block2_3_bn[0][0]          \n",
            "__________________________________________________________________________________________________\n",
            "conv5_block2_out (Activation)   (None, 5, 5, 2048)   0           conv5_block2_add[0][0]           \n",
            "__________________________________________________________________________________________________\n",
            "conv5_block3_1_conv (Conv2D)    (None, 5, 5, 512)    1049088     conv5_block2_out[0][0]           \n",
            "__________________________________________________________________________________________________\n",
            "conv5_block3_1_bn (BatchNormali (None, 5, 5, 512)    2048        conv5_block3_1_conv[0][0]        \n",
            "__________________________________________________________________________________________________\n",
            "conv5_block3_1_relu (Activation (None, 5, 5, 512)    0           conv5_block3_1_bn[0][0]          \n",
            "__________________________________________________________________________________________________\n",
            "conv5_block3_2_conv (Conv2D)    (None, 5, 5, 512)    2359808     conv5_block3_1_relu[0][0]        \n",
            "__________________________________________________________________________________________________\n",
            "conv5_block3_2_bn (BatchNormali (None, 5, 5, 512)    2048        conv5_block3_2_conv[0][0]        \n",
            "__________________________________________________________________________________________________\n",
            "conv5_block3_2_relu (Activation (None, 5, 5, 512)    0           conv5_block3_2_bn[0][0]          \n",
            "__________________________________________________________________________________________________\n",
            "conv5_block3_3_conv (Conv2D)    (None, 5, 5, 2048)   1050624     conv5_block3_2_relu[0][0]        \n",
            "__________________________________________________________________________________________________\n",
            "conv5_block3_3_bn (BatchNormali (None, 5, 5, 2048)   8192        conv5_block3_3_conv[0][0]        \n",
            "__________________________________________________________________________________________________\n",
            "conv5_block3_add (Add)          (None, 5, 5, 2048)   0           conv5_block2_out[0][0]           \n",
            "                                                                 conv5_block3_3_bn[0][0]          \n",
            "__________________________________________________________________________________________________\n",
            "conv5_block3_out (Activation)   (None, 5, 5, 2048)   0           conv5_block3_add[0][0]           \n",
            "__________________________________________________________________________________________________\n",
            "flatten_1 (Flatten)             (None, 51200)        0           conv5_block3_out[0][0]           \n",
            "__________________________________________________________________________________________________\n",
            "dense_2 (Dense)                 (None, 6)            307206      flatten_1[0][0]                  \n",
            "==================================================================================================\n",
            "Total params: 23,894,918\n",
            "Trainable params: 307,206\n",
            "Non-trainable params: 23,587,712\n",
            "__________________________________________________________________________________________________\n"
          ],
          "name": "stdout"
        }
      ]
    },
    {
      "cell_type": "markdown",
      "metadata": {
        "id": "gbD5P9jaTDv6",
        "colab_type": "text"
      },
      "source": [
        "1. Categorical crossentropy is used as loss function since it is single label catgorization i.e., each image belongs to only one category\n",
        "2. Adam optimizer is used for better optimization\n",
        "3. We are using accuracy as a metric for evaluation "
      ]
    },
    {
      "cell_type": "code",
      "metadata": {
        "id": "V5x1IOOtzdXm",
        "colab_type": "code",
        "colab": {}
      },
      "source": [
        "model.compile(loss='categorical_crossentropy',optimizer='adam',metrics=['accuracy'])"
      ],
      "execution_count": null,
      "outputs": []
    },
    {
      "cell_type": "markdown",
      "metadata": {
        "id": "lmDJADQzTpC6",
        "colab_type": "text"
      },
      "source": [
        "**Fitting data to our model**"
      ]
    },
    {
      "cell_type": "markdown",
      "metadata": {
        "id": "RHKKmpFjTxhh",
        "colab_type": "text"
      },
      "source": [
        "1. We use fit function to fit our training and test data for our ResNet model\n",
        "2. We specify number of epochs as 50 for better stability in accuracy\n",
        "3. Validation data is given as our test data\n",
        "4. Batch size can be of any size ie., 32 or 64 depending upon our data"
      ]
    },
    {
      "cell_type": "code",
      "metadata": {
        "id": "d6uU-_0bzdK9",
        "colab_type": "code",
        "colab": {
          "base_uri": "https://localhost:8080/",
          "height": 1000
        },
        "outputId": "46699325-9a7b-4f04-9ae8-201aa307a8ad"
      },
      "source": [
        "r = model.fit(X_train, y_train, epochs = 50, batch_size = 64,validation_data=(X_test, y_test), shuffle=True)"
      ],
      "execution_count": null,
      "outputs": [
        {
          "output_type": "stream",
          "text": [
            "Epoch 1/50\n",
            "220/220 [==============================] - 61s 276ms/step - loss: 1.2562 - accuracy: 0.5219 - val_loss: 1.0763 - val_accuracy: 0.5677\n",
            "Epoch 2/50\n",
            "220/220 [==============================] - 58s 265ms/step - loss: 0.9449 - accuracy: 0.6312 - val_loss: 1.0897 - val_accuracy: 0.5737\n",
            "Epoch 3/50\n",
            "220/220 [==============================] - 58s 265ms/step - loss: 0.8860 - accuracy: 0.6514 - val_loss: 0.8790 - val_accuracy: 0.6587\n",
            "Epoch 4/50\n",
            "220/220 [==============================] - 58s 265ms/step - loss: 0.7925 - accuracy: 0.7001 - val_loss: 0.8747 - val_accuracy: 0.6780\n",
            "Epoch 5/50\n",
            "220/220 [==============================] - 58s 265ms/step - loss: 0.8010 - accuracy: 0.6895 - val_loss: 0.8351 - val_accuracy: 0.6637\n",
            "Epoch 6/50\n",
            "220/220 [==============================] - 58s 265ms/step - loss: 0.7432 - accuracy: 0.7141 - val_loss: 0.8328 - val_accuracy: 0.6710\n",
            "Epoch 7/50\n",
            "220/220 [==============================] - 58s 265ms/step - loss: 0.7262 - accuracy: 0.7197 - val_loss: 0.8102 - val_accuracy: 0.6910\n",
            "Epoch 8/50\n",
            "220/220 [==============================] - 58s 265ms/step - loss: 0.7144 - accuracy: 0.7263 - val_loss: 0.7854 - val_accuracy: 0.7163\n",
            "Epoch 9/50\n",
            "220/220 [==============================] - 58s 265ms/step - loss: 0.6871 - accuracy: 0.7383 - val_loss: 0.9212 - val_accuracy: 0.6543\n",
            "Epoch 10/50\n",
            "220/220 [==============================] - 58s 265ms/step - loss: 0.6930 - accuracy: 0.7359 - val_loss: 0.7515 - val_accuracy: 0.7200\n",
            "Epoch 11/50\n",
            "220/220 [==============================] - 58s 265ms/step - loss: 0.6691 - accuracy: 0.7469 - val_loss: 0.8039 - val_accuracy: 0.6970\n",
            "Epoch 12/50\n",
            "220/220 [==============================] - 58s 265ms/step - loss: 0.6615 - accuracy: 0.7474 - val_loss: 0.8111 - val_accuracy: 0.6860\n",
            "Epoch 13/50\n",
            "220/220 [==============================] - 58s 265ms/step - loss: 0.6259 - accuracy: 0.7623 - val_loss: 0.7850 - val_accuracy: 0.7133\n",
            "Epoch 14/50\n",
            "220/220 [==============================] - 58s 265ms/step - loss: 0.6607 - accuracy: 0.7451 - val_loss: 0.7618 - val_accuracy: 0.7200\n",
            "Epoch 15/50\n",
            "220/220 [==============================] - 58s 265ms/step - loss: 0.6116 - accuracy: 0.7679 - val_loss: 0.7869 - val_accuracy: 0.7107\n",
            "Epoch 16/50\n",
            "220/220 [==============================] - 58s 265ms/step - loss: 0.6315 - accuracy: 0.7575 - val_loss: 0.7567 - val_accuracy: 0.7163\n",
            "Epoch 17/50\n",
            "220/220 [==============================] - 58s 265ms/step - loss: 0.6010 - accuracy: 0.7743 - val_loss: 0.8737 - val_accuracy: 0.6630\n",
            "Epoch 18/50\n",
            "220/220 [==============================] - 58s 265ms/step - loss: 0.5948 - accuracy: 0.7764 - val_loss: 0.8055 - val_accuracy: 0.7050\n",
            "Epoch 19/50\n",
            "220/220 [==============================] - 58s 265ms/step - loss: 0.5972 - accuracy: 0.7711 - val_loss: 0.8337 - val_accuracy: 0.7093\n",
            "Epoch 20/50\n",
            "220/220 [==============================] - 58s 264ms/step - loss: 0.5902 - accuracy: 0.7768 - val_loss: 0.7749 - val_accuracy: 0.7143\n",
            "Epoch 21/50\n",
            "220/220 [==============================] - 58s 265ms/step - loss: 0.5729 - accuracy: 0.7865 - val_loss: 0.8285 - val_accuracy: 0.6923\n",
            "Epoch 22/50\n",
            "220/220 [==============================] - 58s 265ms/step - loss: 0.5763 - accuracy: 0.7826 - val_loss: 0.7878 - val_accuracy: 0.7190\n",
            "Epoch 23/50\n",
            "220/220 [==============================] - 58s 265ms/step - loss: 0.5703 - accuracy: 0.7840 - val_loss: 0.8345 - val_accuracy: 0.6917\n",
            "Epoch 24/50\n",
            "220/220 [==============================] - 58s 264ms/step - loss: 0.5573 - accuracy: 0.7945 - val_loss: 0.8386 - val_accuracy: 0.6840\n",
            "Epoch 25/50\n",
            "220/220 [==============================] - 58s 264ms/step - loss: 0.5518 - accuracy: 0.7948 - val_loss: 0.8274 - val_accuracy: 0.7110\n",
            "Epoch 26/50\n",
            "220/220 [==============================] - 58s 264ms/step - loss: 0.5683 - accuracy: 0.7875 - val_loss: 0.7790 - val_accuracy: 0.7177\n",
            "Epoch 27/50\n",
            "220/220 [==============================] - 58s 264ms/step - loss: 0.5555 - accuracy: 0.7943 - val_loss: 0.7776 - val_accuracy: 0.7203\n",
            "Epoch 28/50\n",
            "220/220 [==============================] - 58s 264ms/step - loss: 0.5445 - accuracy: 0.7980 - val_loss: 0.7674 - val_accuracy: 0.7320\n",
            "Epoch 29/50\n",
            "220/220 [==============================] - 58s 264ms/step - loss: 0.5271 - accuracy: 0.8057 - val_loss: 0.8012 - val_accuracy: 0.7217\n",
            "Epoch 30/50\n",
            "220/220 [==============================] - 58s 264ms/step - loss: 0.5437 - accuracy: 0.7947 - val_loss: 0.7777 - val_accuracy: 0.7370\n",
            "Epoch 31/50\n",
            "220/220 [==============================] - 58s 264ms/step - loss: 0.5202 - accuracy: 0.8083 - val_loss: 0.7486 - val_accuracy: 0.7400\n",
            "Epoch 32/50\n",
            "220/220 [==============================] - 58s 265ms/step - loss: 0.5265 - accuracy: 0.8039 - val_loss: 0.7449 - val_accuracy: 0.7510\n",
            "Epoch 33/50\n",
            "220/220 [==============================] - 58s 264ms/step - loss: 0.5030 - accuracy: 0.8158 - val_loss: 0.7458 - val_accuracy: 0.7453\n",
            "Epoch 34/50\n",
            "220/220 [==============================] - 58s 265ms/step - loss: 0.5271 - accuracy: 0.8048 - val_loss: 0.9450 - val_accuracy: 0.6650\n",
            "Epoch 35/50\n",
            "220/220 [==============================] - 58s 265ms/step - loss: 0.5446 - accuracy: 0.7961 - val_loss: 0.7503 - val_accuracy: 0.7417\n",
            "Epoch 36/50\n",
            "220/220 [==============================] - 58s 265ms/step - loss: 0.5298 - accuracy: 0.8052 - val_loss: 0.7722 - val_accuracy: 0.7363\n",
            "Epoch 37/50\n",
            "220/220 [==============================] - 58s 264ms/step - loss: 0.5016 - accuracy: 0.8137 - val_loss: 0.8339 - val_accuracy: 0.7173\n",
            "Epoch 38/50\n",
            "220/220 [==============================] - 58s 264ms/step - loss: 0.5205 - accuracy: 0.8043 - val_loss: 0.7956 - val_accuracy: 0.7320\n",
            "Epoch 39/50\n",
            "220/220 [==============================] - 58s 264ms/step - loss: 0.5040 - accuracy: 0.8153 - val_loss: 0.7903 - val_accuracy: 0.7260\n",
            "Epoch 40/50\n",
            "220/220 [==============================] - 58s 263ms/step - loss: 0.5042 - accuracy: 0.8125 - val_loss: 0.9520 - val_accuracy: 0.6710\n",
            "Epoch 41/50\n",
            "220/220 [==============================] - 58s 264ms/step - loss: 0.4911 - accuracy: 0.8197 - val_loss: 0.7945 - val_accuracy: 0.7177\n",
            "Epoch 42/50\n",
            "220/220 [==============================] - 58s 263ms/step - loss: 0.4826 - accuracy: 0.8214 - val_loss: 0.8855 - val_accuracy: 0.6963\n",
            "Epoch 43/50\n",
            "220/220 [==============================] - 58s 263ms/step - loss: 0.4752 - accuracy: 0.8244 - val_loss: 0.9202 - val_accuracy: 0.6850\n",
            "Epoch 44/50\n",
            "220/220 [==============================] - 58s 264ms/step - loss: 0.4866 - accuracy: 0.8242 - val_loss: 0.9011 - val_accuracy: 0.6823\n",
            "Epoch 45/50\n",
            "220/220 [==============================] - 58s 263ms/step - loss: 0.4996 - accuracy: 0.8149 - val_loss: 0.7724 - val_accuracy: 0.7320\n",
            "Epoch 46/50\n",
            "220/220 [==============================] - 58s 264ms/step - loss: 0.4613 - accuracy: 0.8301 - val_loss: 0.8065 - val_accuracy: 0.7233\n",
            "Epoch 47/50\n",
            "220/220 [==============================] - 58s 263ms/step - loss: 0.4634 - accuracy: 0.8308 - val_loss: 0.7716 - val_accuracy: 0.7467\n",
            "Epoch 48/50\n",
            "220/220 [==============================] - 58s 263ms/step - loss: 0.4572 - accuracy: 0.8338 - val_loss: 0.7933 - val_accuracy: 0.7353\n",
            "Epoch 49/50\n",
            "220/220 [==============================] - 58s 263ms/step - loss: 0.4757 - accuracy: 0.8220 - val_loss: 0.7704 - val_accuracy: 0.7493\n",
            "Epoch 50/50\n",
            "220/220 [==============================] - 58s 263ms/step - loss: 0.4499 - accuracy: 0.8356 - val_loss: 0.7761 - val_accuracy: 0.7363\n"
          ],
          "name": "stdout"
        }
      ]
    },
    {
      "cell_type": "markdown",
      "metadata": {
        "id": "_ZYRkc1zUReA",
        "colab_type": "text"
      },
      "source": [
        "**Evaluating performance of our model**"
      ]
    },
    {
      "cell_type": "markdown",
      "metadata": {
        "id": "xJRmcls6UY_Z",
        "colab_type": "text"
      },
      "source": [
        "1. We use evaluate function to test accuracy of our test data on our trained model\n"
      ]
    },
    {
      "cell_type": "code",
      "metadata": {
        "id": "QlhtNq2H6GSX",
        "colab_type": "code",
        "colab": {
          "base_uri": "https://localhost:8080/",
          "height": 51
        },
        "outputId": "89d5a271-db4e-4006-b669-e38744d0e870"
      },
      "source": [
        "model.evaluate(X_test, y_test)"
      ],
      "execution_count": null,
      "outputs": [
        {
          "output_type": "stream",
          "text": [
            "94/94 [==============================] - 11s 122ms/step - loss: 0.7761 - accuracy: 0.7363\n"
          ],
          "name": "stdout"
        },
        {
          "output_type": "execute_result",
          "data": {
            "text/plain": [
              "[0.776053249835968, 0.7363333106040955]"
            ]
          },
          "metadata": {
            "tags": []
          },
          "execution_count": 72
        }
      ]
    },
    {
      "cell_type": "markdown",
      "metadata": {
        "id": "ckYGlP-hUjN6",
        "colab_type": "text"
      },
      "source": [
        "**OBSERVATION**"
      ]
    },
    {
      "cell_type": "markdown",
      "metadata": {
        "id": "2XBTc6imUtEd",
        "colab_type": "text"
      },
      "source": [
        "1. We got an accuracy of 73.63 using ResNet50 as our model\n",
        "2. We obtained loss of 0.7761 which shows moderate performance of ResNet50 on our data"
      ]
    },
    {
      "cell_type": "markdown",
      "metadata": {
        "id": "gjoPdjgJHo5Q",
        "colab_type": "text"
      },
      "source": [
        "**VGG16** **with inbuilt pretrained images by imagenet**\n"
      ]
    },
    {
      "cell_type": "code",
      "metadata": {
        "id": "WoMBkicJHnK-",
        "colab_type": "code",
        "colab": {
          "base_uri": "https://localhost:8080/",
          "height": 34
        },
        "outputId": "199a082a-ee00-4317-d524-1fded6abeca3"
      },
      "source": [
        "from keras.applications import VGG16"
      ],
      "execution_count": null,
      "outputs": [
        {
          "output_type": "stream",
          "text": [
            "Using TensorFlow backend.\n"
          ],
          "name": "stderr"
        }
      ]
    },
    {
      "cell_type": "markdown",
      "metadata": {
        "id": "CoFS9IqDN-s_",
        "colab_type": "text"
      },
      "source": [
        "1. Using VGG16 model for our data\n",
        "2. Using pretrained weights of images by imagenet\n",
        "3. Specifying include_top=False to modify output layer according to our requirements"
      ]
    },
    {
      "cell_type": "code",
      "metadata": {
        "id": "-aYHO-rNHnJ0",
        "colab_type": "code",
        "colab": {
          "base_uri": "https://localhost:8080/",
          "height": 71
        },
        "outputId": "c269ea10-c547-47d9-c956-b16a6e37d5b1"
      },
      "source": [
        "vgg_conv = VGG16(weights='imagenet',\n",
        "                  include_top=False,input_shape=(150,150,3))"
      ],
      "execution_count": null,
      "outputs": [
        {
          "output_type": "stream",
          "text": [
            "Downloading data from https://github.com/fchollet/deep-learning-models/releases/download/v0.1/vgg16_weights_tf_dim_ordering_tf_kernels_notop.h5\n",
            "58892288/58889256 [==============================] - 5s 0us/step\n"
          ],
          "name": "stdout"
        }
      ]
    },
    {
      "cell_type": "code",
      "metadata": {
        "id": "rNLvVjOtHnFf",
        "colab_type": "code",
        "colab": {
          "base_uri": "https://localhost:8080/",
          "height": 799
        },
        "outputId": "b1b74a56-a9e0-45b1-e967-7738a8f50041"
      },
      "source": [
        "vgg_conv.summary()"
      ],
      "execution_count": null,
      "outputs": [
        {
          "output_type": "stream",
          "text": [
            "Model: \"vgg16\"\n",
            "_________________________________________________________________\n",
            "Layer (type)                 Output Shape              Param #   \n",
            "=================================================================\n",
            "input_7 (InputLayer)         (None, 150, 150, 3)       0         \n",
            "_________________________________________________________________\n",
            "block1_conv1 (Conv2D)        (None, 150, 150, 64)      1792      \n",
            "_________________________________________________________________\n",
            "block1_conv2 (Conv2D)        (None, 150, 150, 64)      36928     \n",
            "_________________________________________________________________\n",
            "block1_pool (MaxPooling2D)   (None, 75, 75, 64)        0         \n",
            "_________________________________________________________________\n",
            "block2_conv1 (Conv2D)        (None, 75, 75, 128)       73856     \n",
            "_________________________________________________________________\n",
            "block2_conv2 (Conv2D)        (None, 75, 75, 128)       147584    \n",
            "_________________________________________________________________\n",
            "block2_pool (MaxPooling2D)   (None, 37, 37, 128)       0         \n",
            "_________________________________________________________________\n",
            "block3_conv1 (Conv2D)        (None, 37, 37, 256)       295168    \n",
            "_________________________________________________________________\n",
            "block3_conv2 (Conv2D)        (None, 37, 37, 256)       590080    \n",
            "_________________________________________________________________\n",
            "block3_conv3 (Conv2D)        (None, 37, 37, 256)       590080    \n",
            "_________________________________________________________________\n",
            "block3_pool (MaxPooling2D)   (None, 18, 18, 256)       0         \n",
            "_________________________________________________________________\n",
            "block4_conv1 (Conv2D)        (None, 18, 18, 512)       1180160   \n",
            "_________________________________________________________________\n",
            "block4_conv2 (Conv2D)        (None, 18, 18, 512)       2359808   \n",
            "_________________________________________________________________\n",
            "block4_conv3 (Conv2D)        (None, 18, 18, 512)       2359808   \n",
            "_________________________________________________________________\n",
            "block4_pool (MaxPooling2D)   (None, 9, 9, 512)         0         \n",
            "_________________________________________________________________\n",
            "block5_conv1 (Conv2D)        (None, 9, 9, 512)         2359808   \n",
            "_________________________________________________________________\n",
            "block5_conv2 (Conv2D)        (None, 9, 9, 512)         2359808   \n",
            "_________________________________________________________________\n",
            "block5_conv3 (Conv2D)        (None, 9, 9, 512)         2359808   \n",
            "_________________________________________________________________\n",
            "block5_pool (MaxPooling2D)   (None, 4, 4, 512)         0         \n",
            "=================================================================\n",
            "Total params: 14,714,688\n",
            "Trainable params: 14,714,688\n",
            "Non-trainable params: 0\n",
            "_________________________________________________________________\n"
          ],
          "name": "stdout"
        }
      ]
    },
    {
      "cell_type": "markdown",
      "metadata": {
        "id": "-0iOzXVSVYpL",
        "colab_type": "text"
      },
      "source": [
        "1. Models.Sequential is used to define the beginning of our model\n",
        "2. We add vgg_conv which has our predeined VGG16 layers\n",
        "3. We flatten the data before using softmax since it accepts 1D as input\n",
        "4. We use dropout to avoid overfitting of data \n",
        "5. Activation function is used as softmax as value is specified as 6 , since we have 6 categorical images"
      ]
    },
    {
      "cell_type": "code",
      "metadata": {
        "id": "EHHw0X9cHnEH",
        "colab_type": "code",
        "colab": {}
      },
      "source": [
        "from keras import models as Models\n",
        "from keras import layers as Layers\n",
        "model1=Models.Sequential()\n",
        "model1.add(vgg_conv)\n",
        "model1.add(Layers.Flatten())\n",
        "model1.add(Layers.Dense(180,activation='relu'))\n",
        "model1.add(Layers.Dense(100,activation='relu'))\n",
        "model1.add(Layers.Dense(50,activation='relu'))\n",
        "model1.add(Layers.Dropout(rate=0.5))\n",
        "model1.add(Layers.Dense(6,activation='softmax'))"
      ],
      "execution_count": null,
      "outputs": []
    },
    {
      "cell_type": "code",
      "metadata": {
        "id": "2-udj7PoHmy3",
        "colab_type": "code",
        "colab": {
          "base_uri": "https://localhost:8080/",
          "height": 391
        },
        "outputId": "a93e9c8a-7771-43cd-a147-0977d0ec6f52"
      },
      "source": [
        "model1.summary()"
      ],
      "execution_count": null,
      "outputs": [
        {
          "output_type": "stream",
          "text": [
            "Model: \"sequential_2\"\n",
            "_________________________________________________________________\n",
            "Layer (type)                 Output Shape              Param #   \n",
            "=================================================================\n",
            "vgg16 (Model)                (None, 4, 4, 512)         14714688  \n",
            "_________________________________________________________________\n",
            "flatten_1 (Flatten)          (None, 8192)              0         \n",
            "_________________________________________________________________\n",
            "dense_1 (Dense)              (None, 180)               1474740   \n",
            "_________________________________________________________________\n",
            "dense_2 (Dense)              (None, 100)               18100     \n",
            "_________________________________________________________________\n",
            "dense_3 (Dense)              (None, 50)                5050      \n",
            "_________________________________________________________________\n",
            "dropout_1 (Dropout)          (None, 50)                0         \n",
            "_________________________________________________________________\n",
            "dense_4 (Dense)              (None, 6)                 306       \n",
            "=================================================================\n",
            "Total params: 16,212,884\n",
            "Trainable params: 16,212,884\n",
            "Non-trainable params: 0\n",
            "_________________________________________________________________\n"
          ],
          "name": "stdout"
        }
      ]
    },
    {
      "cell_type": "markdown",
      "metadata": {
        "id": "IsXMZYm0V8Wu",
        "colab_type": "text"
      },
      "source": [
        "Similar to ResNet50, we donot train the VGG16 layers since it is already trained thus we use .trainable=False"
      ]
    },
    {
      "cell_type": "code",
      "metadata": {
        "id": "ui93HrXTHmwl",
        "colab_type": "code",
        "colab": {}
      },
      "source": [
        "vgg_conv.trainable=False"
      ],
      "execution_count": null,
      "outputs": []
    },
    {
      "cell_type": "code",
      "metadata": {
        "id": "mRoGAnLpIvHb",
        "colab_type": "code",
        "colab": {
          "base_uri": "https://localhost:8080/",
          "height": 1000
        },
        "outputId": "a53f4e9b-34f7-4062-966d-cd6c30eea7fd"
      },
      "source": [
        "model.summary()"
      ],
      "execution_count": null,
      "outputs": [
        {
          "output_type": "stream",
          "text": [
            "Model: \"model_4\"\n",
            "__________________________________________________________________________________________________\n",
            "Layer (type)                    Output Shape         Param #     Connected to                     \n",
            "==================================================================================================\n",
            "input_6 (InputLayer)            [(None, 150, 150, 3) 0                                            \n",
            "__________________________________________________________________________________________________\n",
            "conv1_pad (ZeroPadding2D)       (None, 156, 156, 3)  0           input_6[0][0]                    \n",
            "__________________________________________________________________________________________________\n",
            "conv1_conv (Conv2D)             (None, 75, 75, 64)   9472        conv1_pad[0][0]                  \n",
            "__________________________________________________________________________________________________\n",
            "conv1_bn (BatchNormalization)   (None, 75, 75, 64)   256         conv1_conv[0][0]                 \n",
            "__________________________________________________________________________________________________\n",
            "conv1_relu (Activation)         (None, 75, 75, 64)   0           conv1_bn[0][0]                   \n",
            "__________________________________________________________________________________________________\n",
            "pool1_pad (ZeroPadding2D)       (None, 77, 77, 64)   0           conv1_relu[0][0]                 \n",
            "__________________________________________________________________________________________________\n",
            "pool1_pool (MaxPooling2D)       (None, 38, 38, 64)   0           pool1_pad[0][0]                  \n",
            "__________________________________________________________________________________________________\n",
            "conv2_block1_1_conv (Conv2D)    (None, 38, 38, 64)   4160        pool1_pool[0][0]                 \n",
            "__________________________________________________________________________________________________\n",
            "conv2_block1_1_bn (BatchNormali (None, 38, 38, 64)   256         conv2_block1_1_conv[0][0]        \n",
            "__________________________________________________________________________________________________\n",
            "conv2_block1_1_relu (Activation (None, 38, 38, 64)   0           conv2_block1_1_bn[0][0]          \n",
            "__________________________________________________________________________________________________\n",
            "conv2_block1_2_conv (Conv2D)    (None, 38, 38, 64)   36928       conv2_block1_1_relu[0][0]        \n",
            "__________________________________________________________________________________________________\n",
            "conv2_block1_2_bn (BatchNormali (None, 38, 38, 64)   256         conv2_block1_2_conv[0][0]        \n",
            "__________________________________________________________________________________________________\n",
            "conv2_block1_2_relu (Activation (None, 38, 38, 64)   0           conv2_block1_2_bn[0][0]          \n",
            "__________________________________________________________________________________________________\n",
            "conv2_block1_0_conv (Conv2D)    (None, 38, 38, 256)  16640       pool1_pool[0][0]                 \n",
            "__________________________________________________________________________________________________\n",
            "conv2_block1_3_conv (Conv2D)    (None, 38, 38, 256)  16640       conv2_block1_2_relu[0][0]        \n",
            "__________________________________________________________________________________________________\n",
            "conv2_block1_0_bn (BatchNormali (None, 38, 38, 256)  1024        conv2_block1_0_conv[0][0]        \n",
            "__________________________________________________________________________________________________\n",
            "conv2_block1_3_bn (BatchNormali (None, 38, 38, 256)  1024        conv2_block1_3_conv[0][0]        \n",
            "__________________________________________________________________________________________________\n",
            "conv2_block1_add (Add)          (None, 38, 38, 256)  0           conv2_block1_0_bn[0][0]          \n",
            "                                                                 conv2_block1_3_bn[0][0]          \n",
            "__________________________________________________________________________________________________\n",
            "conv2_block1_out (Activation)   (None, 38, 38, 256)  0           conv2_block1_add[0][0]           \n",
            "__________________________________________________________________________________________________\n",
            "conv2_block2_1_conv (Conv2D)    (None, 38, 38, 64)   16448       conv2_block1_out[0][0]           \n",
            "__________________________________________________________________________________________________\n",
            "conv2_block2_1_bn (BatchNormali (None, 38, 38, 64)   256         conv2_block2_1_conv[0][0]        \n",
            "__________________________________________________________________________________________________\n",
            "conv2_block2_1_relu (Activation (None, 38, 38, 64)   0           conv2_block2_1_bn[0][0]          \n",
            "__________________________________________________________________________________________________\n",
            "conv2_block2_2_conv (Conv2D)    (None, 38, 38, 64)   36928       conv2_block2_1_relu[0][0]        \n",
            "__________________________________________________________________________________________________\n",
            "conv2_block2_2_bn (BatchNormali (None, 38, 38, 64)   256         conv2_block2_2_conv[0][0]        \n",
            "__________________________________________________________________________________________________\n",
            "conv2_block2_2_relu (Activation (None, 38, 38, 64)   0           conv2_block2_2_bn[0][0]          \n",
            "__________________________________________________________________________________________________\n",
            "conv2_block2_3_conv (Conv2D)    (None, 38, 38, 256)  16640       conv2_block2_2_relu[0][0]        \n",
            "__________________________________________________________________________________________________\n",
            "conv2_block2_3_bn (BatchNormali (None, 38, 38, 256)  1024        conv2_block2_3_conv[0][0]        \n",
            "__________________________________________________________________________________________________\n",
            "conv2_block2_add (Add)          (None, 38, 38, 256)  0           conv2_block1_out[0][0]           \n",
            "                                                                 conv2_block2_3_bn[0][0]          \n",
            "__________________________________________________________________________________________________\n",
            "conv2_block2_out (Activation)   (None, 38, 38, 256)  0           conv2_block2_add[0][0]           \n",
            "__________________________________________________________________________________________________\n",
            "conv2_block3_1_conv (Conv2D)    (None, 38, 38, 64)   16448       conv2_block2_out[0][0]           \n",
            "__________________________________________________________________________________________________\n",
            "conv2_block3_1_bn (BatchNormali (None, 38, 38, 64)   256         conv2_block3_1_conv[0][0]        \n",
            "__________________________________________________________________________________________________\n",
            "conv2_block3_1_relu (Activation (None, 38, 38, 64)   0           conv2_block3_1_bn[0][0]          \n",
            "__________________________________________________________________________________________________\n",
            "conv2_block3_2_conv (Conv2D)    (None, 38, 38, 64)   36928       conv2_block3_1_relu[0][0]        \n",
            "__________________________________________________________________________________________________\n",
            "conv2_block3_2_bn (BatchNormali (None, 38, 38, 64)   256         conv2_block3_2_conv[0][0]        \n",
            "__________________________________________________________________________________________________\n",
            "conv2_block3_2_relu (Activation (None, 38, 38, 64)   0           conv2_block3_2_bn[0][0]          \n",
            "__________________________________________________________________________________________________\n",
            "conv2_block3_3_conv (Conv2D)    (None, 38, 38, 256)  16640       conv2_block3_2_relu[0][0]        \n",
            "__________________________________________________________________________________________________\n",
            "conv2_block3_3_bn (BatchNormali (None, 38, 38, 256)  1024        conv2_block3_3_conv[0][0]        \n",
            "__________________________________________________________________________________________________\n",
            "conv2_block3_add (Add)          (None, 38, 38, 256)  0           conv2_block2_out[0][0]           \n",
            "                                                                 conv2_block3_3_bn[0][0]          \n",
            "__________________________________________________________________________________________________\n",
            "conv2_block3_out (Activation)   (None, 38, 38, 256)  0           conv2_block3_add[0][0]           \n",
            "__________________________________________________________________________________________________\n",
            "conv3_block1_1_conv (Conv2D)    (None, 19, 19, 128)  32896       conv2_block3_out[0][0]           \n",
            "__________________________________________________________________________________________________\n",
            "conv3_block1_1_bn (BatchNormali (None, 19, 19, 128)  512         conv3_block1_1_conv[0][0]        \n",
            "__________________________________________________________________________________________________\n",
            "conv3_block1_1_relu (Activation (None, 19, 19, 128)  0           conv3_block1_1_bn[0][0]          \n",
            "__________________________________________________________________________________________________\n",
            "conv3_block1_2_conv (Conv2D)    (None, 19, 19, 128)  147584      conv3_block1_1_relu[0][0]        \n",
            "__________________________________________________________________________________________________\n",
            "conv3_block1_2_bn (BatchNormali (None, 19, 19, 128)  512         conv3_block1_2_conv[0][0]        \n",
            "__________________________________________________________________________________________________\n",
            "conv3_block1_2_relu (Activation (None, 19, 19, 128)  0           conv3_block1_2_bn[0][0]          \n",
            "__________________________________________________________________________________________________\n",
            "conv3_block1_0_conv (Conv2D)    (None, 19, 19, 512)  131584      conv2_block3_out[0][0]           \n",
            "__________________________________________________________________________________________________\n",
            "conv3_block1_3_conv (Conv2D)    (None, 19, 19, 512)  66048       conv3_block1_2_relu[0][0]        \n",
            "__________________________________________________________________________________________________\n",
            "conv3_block1_0_bn (BatchNormali (None, 19, 19, 512)  2048        conv3_block1_0_conv[0][0]        \n",
            "__________________________________________________________________________________________________\n",
            "conv3_block1_3_bn (BatchNormali (None, 19, 19, 512)  2048        conv3_block1_3_conv[0][0]        \n",
            "__________________________________________________________________________________________________\n",
            "conv3_block1_add (Add)          (None, 19, 19, 512)  0           conv3_block1_0_bn[0][0]          \n",
            "                                                                 conv3_block1_3_bn[0][0]          \n",
            "__________________________________________________________________________________________________\n",
            "conv3_block1_out (Activation)   (None, 19, 19, 512)  0           conv3_block1_add[0][0]           \n",
            "__________________________________________________________________________________________________\n",
            "conv3_block2_1_conv (Conv2D)    (None, 19, 19, 128)  65664       conv3_block1_out[0][0]           \n",
            "__________________________________________________________________________________________________\n",
            "conv3_block2_1_bn (BatchNormali (None, 19, 19, 128)  512         conv3_block2_1_conv[0][0]        \n",
            "__________________________________________________________________________________________________\n",
            "conv3_block2_1_relu (Activation (None, 19, 19, 128)  0           conv3_block2_1_bn[0][0]          \n",
            "__________________________________________________________________________________________________\n",
            "conv3_block2_2_conv (Conv2D)    (None, 19, 19, 128)  147584      conv3_block2_1_relu[0][0]        \n",
            "__________________________________________________________________________________________________\n",
            "conv3_block2_2_bn (BatchNormali (None, 19, 19, 128)  512         conv3_block2_2_conv[0][0]        \n",
            "__________________________________________________________________________________________________\n",
            "conv3_block2_2_relu (Activation (None, 19, 19, 128)  0           conv3_block2_2_bn[0][0]          \n",
            "__________________________________________________________________________________________________\n",
            "conv3_block2_3_conv (Conv2D)    (None, 19, 19, 512)  66048       conv3_block2_2_relu[0][0]        \n",
            "__________________________________________________________________________________________________\n",
            "conv3_block2_3_bn (BatchNormali (None, 19, 19, 512)  2048        conv3_block2_3_conv[0][0]        \n",
            "__________________________________________________________________________________________________\n",
            "conv3_block2_add (Add)          (None, 19, 19, 512)  0           conv3_block1_out[0][0]           \n",
            "                                                                 conv3_block2_3_bn[0][0]          \n",
            "__________________________________________________________________________________________________\n",
            "conv3_block2_out (Activation)   (None, 19, 19, 512)  0           conv3_block2_add[0][0]           \n",
            "__________________________________________________________________________________________________\n",
            "conv3_block3_1_conv (Conv2D)    (None, 19, 19, 128)  65664       conv3_block2_out[0][0]           \n",
            "__________________________________________________________________________________________________\n",
            "conv3_block3_1_bn (BatchNormali (None, 19, 19, 128)  512         conv3_block3_1_conv[0][0]        \n",
            "__________________________________________________________________________________________________\n",
            "conv3_block3_1_relu (Activation (None, 19, 19, 128)  0           conv3_block3_1_bn[0][0]          \n",
            "__________________________________________________________________________________________________\n",
            "conv3_block3_2_conv (Conv2D)    (None, 19, 19, 128)  147584      conv3_block3_1_relu[0][0]        \n",
            "__________________________________________________________________________________________________\n",
            "conv3_block3_2_bn (BatchNormali (None, 19, 19, 128)  512         conv3_block3_2_conv[0][0]        \n",
            "__________________________________________________________________________________________________\n",
            "conv3_block3_2_relu (Activation (None, 19, 19, 128)  0           conv3_block3_2_bn[0][0]          \n",
            "__________________________________________________________________________________________________\n",
            "conv3_block3_3_conv (Conv2D)    (None, 19, 19, 512)  66048       conv3_block3_2_relu[0][0]        \n",
            "__________________________________________________________________________________________________\n",
            "conv3_block3_3_bn (BatchNormali (None, 19, 19, 512)  2048        conv3_block3_3_conv[0][0]        \n",
            "__________________________________________________________________________________________________\n",
            "conv3_block3_add (Add)          (None, 19, 19, 512)  0           conv3_block2_out[0][0]           \n",
            "                                                                 conv3_block3_3_bn[0][0]          \n",
            "__________________________________________________________________________________________________\n",
            "conv3_block3_out (Activation)   (None, 19, 19, 512)  0           conv3_block3_add[0][0]           \n",
            "__________________________________________________________________________________________________\n",
            "conv3_block4_1_conv (Conv2D)    (None, 19, 19, 128)  65664       conv3_block3_out[0][0]           \n",
            "__________________________________________________________________________________________________\n",
            "conv3_block4_1_bn (BatchNormali (None, 19, 19, 128)  512         conv3_block4_1_conv[0][0]        \n",
            "__________________________________________________________________________________________________\n",
            "conv3_block4_1_relu (Activation (None, 19, 19, 128)  0           conv3_block4_1_bn[0][0]          \n",
            "__________________________________________________________________________________________________\n",
            "conv3_block4_2_conv (Conv2D)    (None, 19, 19, 128)  147584      conv3_block4_1_relu[0][0]        \n",
            "__________________________________________________________________________________________________\n",
            "conv3_block4_2_bn (BatchNormali (None, 19, 19, 128)  512         conv3_block4_2_conv[0][0]        \n",
            "__________________________________________________________________________________________________\n",
            "conv3_block4_2_relu (Activation (None, 19, 19, 128)  0           conv3_block4_2_bn[0][0]          \n",
            "__________________________________________________________________________________________________\n",
            "conv3_block4_3_conv (Conv2D)    (None, 19, 19, 512)  66048       conv3_block4_2_relu[0][0]        \n",
            "__________________________________________________________________________________________________\n",
            "conv3_block4_3_bn (BatchNormali (None, 19, 19, 512)  2048        conv3_block4_3_conv[0][0]        \n",
            "__________________________________________________________________________________________________\n",
            "conv3_block4_add (Add)          (None, 19, 19, 512)  0           conv3_block3_out[0][0]           \n",
            "                                                                 conv3_block4_3_bn[0][0]          \n",
            "__________________________________________________________________________________________________\n",
            "conv3_block4_out (Activation)   (None, 19, 19, 512)  0           conv3_block4_add[0][0]           \n",
            "__________________________________________________________________________________________________\n",
            "conv4_block1_1_conv (Conv2D)    (None, 10, 10, 256)  131328      conv3_block4_out[0][0]           \n",
            "__________________________________________________________________________________________________\n",
            "conv4_block1_1_bn (BatchNormali (None, 10, 10, 256)  1024        conv4_block1_1_conv[0][0]        \n",
            "__________________________________________________________________________________________________\n",
            "conv4_block1_1_relu (Activation (None, 10, 10, 256)  0           conv4_block1_1_bn[0][0]          \n",
            "__________________________________________________________________________________________________\n",
            "conv4_block1_2_conv (Conv2D)    (None, 10, 10, 256)  590080      conv4_block1_1_relu[0][0]        \n",
            "__________________________________________________________________________________________________\n",
            "conv4_block1_2_bn (BatchNormali (None, 10, 10, 256)  1024        conv4_block1_2_conv[0][0]        \n",
            "__________________________________________________________________________________________________\n",
            "conv4_block1_2_relu (Activation (None, 10, 10, 256)  0           conv4_block1_2_bn[0][0]          \n",
            "__________________________________________________________________________________________________\n",
            "conv4_block1_0_conv (Conv2D)    (None, 10, 10, 1024) 525312      conv3_block4_out[0][0]           \n",
            "__________________________________________________________________________________________________\n",
            "conv4_block1_3_conv (Conv2D)    (None, 10, 10, 1024) 263168      conv4_block1_2_relu[0][0]        \n",
            "__________________________________________________________________________________________________\n",
            "conv4_block1_0_bn (BatchNormali (None, 10, 10, 1024) 4096        conv4_block1_0_conv[0][0]        \n",
            "__________________________________________________________________________________________________\n",
            "conv4_block1_3_bn (BatchNormali (None, 10, 10, 1024) 4096        conv4_block1_3_conv[0][0]        \n",
            "__________________________________________________________________________________________________\n",
            "conv4_block1_add (Add)          (None, 10, 10, 1024) 0           conv4_block1_0_bn[0][0]          \n",
            "                                                                 conv4_block1_3_bn[0][0]          \n",
            "__________________________________________________________________________________________________\n",
            "conv4_block1_out (Activation)   (None, 10, 10, 1024) 0           conv4_block1_add[0][0]           \n",
            "__________________________________________________________________________________________________\n",
            "conv4_block2_1_conv (Conv2D)    (None, 10, 10, 256)  262400      conv4_block1_out[0][0]           \n",
            "__________________________________________________________________________________________________\n",
            "conv4_block2_1_bn (BatchNormali (None, 10, 10, 256)  1024        conv4_block2_1_conv[0][0]        \n",
            "__________________________________________________________________________________________________\n",
            "conv4_block2_1_relu (Activation (None, 10, 10, 256)  0           conv4_block2_1_bn[0][0]          \n",
            "__________________________________________________________________________________________________\n",
            "conv4_block2_2_conv (Conv2D)    (None, 10, 10, 256)  590080      conv4_block2_1_relu[0][0]        \n",
            "__________________________________________________________________________________________________\n",
            "conv4_block2_2_bn (BatchNormali (None, 10, 10, 256)  1024        conv4_block2_2_conv[0][0]        \n",
            "__________________________________________________________________________________________________\n",
            "conv4_block2_2_relu (Activation (None, 10, 10, 256)  0           conv4_block2_2_bn[0][0]          \n",
            "__________________________________________________________________________________________________\n",
            "conv4_block2_3_conv (Conv2D)    (None, 10, 10, 1024) 263168      conv4_block2_2_relu[0][0]        \n",
            "__________________________________________________________________________________________________\n",
            "conv4_block2_3_bn (BatchNormali (None, 10, 10, 1024) 4096        conv4_block2_3_conv[0][0]        \n",
            "__________________________________________________________________________________________________\n",
            "conv4_block2_add (Add)          (None, 10, 10, 1024) 0           conv4_block1_out[0][0]           \n",
            "                                                                 conv4_block2_3_bn[0][0]          \n",
            "__________________________________________________________________________________________________\n",
            "conv4_block2_out (Activation)   (None, 10, 10, 1024) 0           conv4_block2_add[0][0]           \n",
            "__________________________________________________________________________________________________\n",
            "conv4_block3_1_conv (Conv2D)    (None, 10, 10, 256)  262400      conv4_block2_out[0][0]           \n",
            "__________________________________________________________________________________________________\n",
            "conv4_block3_1_bn (BatchNormali (None, 10, 10, 256)  1024        conv4_block3_1_conv[0][0]        \n",
            "__________________________________________________________________________________________________\n",
            "conv4_block3_1_relu (Activation (None, 10, 10, 256)  0           conv4_block3_1_bn[0][0]          \n",
            "__________________________________________________________________________________________________\n",
            "conv4_block3_2_conv (Conv2D)    (None, 10, 10, 256)  590080      conv4_block3_1_relu[0][0]        \n",
            "__________________________________________________________________________________________________\n",
            "conv4_block3_2_bn (BatchNormali (None, 10, 10, 256)  1024        conv4_block3_2_conv[0][0]        \n",
            "__________________________________________________________________________________________________\n",
            "conv4_block3_2_relu (Activation (None, 10, 10, 256)  0           conv4_block3_2_bn[0][0]          \n",
            "__________________________________________________________________________________________________\n",
            "conv4_block3_3_conv (Conv2D)    (None, 10, 10, 1024) 263168      conv4_block3_2_relu[0][0]        \n",
            "__________________________________________________________________________________________________\n",
            "conv4_block3_3_bn (BatchNormali (None, 10, 10, 1024) 4096        conv4_block3_3_conv[0][0]        \n",
            "__________________________________________________________________________________________________\n",
            "conv4_block3_add (Add)          (None, 10, 10, 1024) 0           conv4_block2_out[0][0]           \n",
            "                                                                 conv4_block3_3_bn[0][0]          \n",
            "__________________________________________________________________________________________________\n",
            "conv4_block3_out (Activation)   (None, 10, 10, 1024) 0           conv4_block3_add[0][0]           \n",
            "__________________________________________________________________________________________________\n",
            "conv4_block4_1_conv (Conv2D)    (None, 10, 10, 256)  262400      conv4_block3_out[0][0]           \n",
            "__________________________________________________________________________________________________\n",
            "conv4_block4_1_bn (BatchNormali (None, 10, 10, 256)  1024        conv4_block4_1_conv[0][0]        \n",
            "__________________________________________________________________________________________________\n",
            "conv4_block4_1_relu (Activation (None, 10, 10, 256)  0           conv4_block4_1_bn[0][0]          \n",
            "__________________________________________________________________________________________________\n",
            "conv4_block4_2_conv (Conv2D)    (None, 10, 10, 256)  590080      conv4_block4_1_relu[0][0]        \n",
            "__________________________________________________________________________________________________\n",
            "conv4_block4_2_bn (BatchNormali (None, 10, 10, 256)  1024        conv4_block4_2_conv[0][0]        \n",
            "__________________________________________________________________________________________________\n",
            "conv4_block4_2_relu (Activation (None, 10, 10, 256)  0           conv4_block4_2_bn[0][0]          \n",
            "__________________________________________________________________________________________________\n",
            "conv4_block4_3_conv (Conv2D)    (None, 10, 10, 1024) 263168      conv4_block4_2_relu[0][0]        \n",
            "__________________________________________________________________________________________________\n",
            "conv4_block4_3_bn (BatchNormali (None, 10, 10, 1024) 4096        conv4_block4_3_conv[0][0]        \n",
            "__________________________________________________________________________________________________\n",
            "conv4_block4_add (Add)          (None, 10, 10, 1024) 0           conv4_block3_out[0][0]           \n",
            "                                                                 conv4_block4_3_bn[0][0]          \n",
            "__________________________________________________________________________________________________\n",
            "conv4_block4_out (Activation)   (None, 10, 10, 1024) 0           conv4_block4_add[0][0]           \n",
            "__________________________________________________________________________________________________\n",
            "conv4_block5_1_conv (Conv2D)    (None, 10, 10, 256)  262400      conv4_block4_out[0][0]           \n",
            "__________________________________________________________________________________________________\n",
            "conv4_block5_1_bn (BatchNormali (None, 10, 10, 256)  1024        conv4_block5_1_conv[0][0]        \n",
            "__________________________________________________________________________________________________\n",
            "conv4_block5_1_relu (Activation (None, 10, 10, 256)  0           conv4_block5_1_bn[0][0]          \n",
            "__________________________________________________________________________________________________\n",
            "conv4_block5_2_conv (Conv2D)    (None, 10, 10, 256)  590080      conv4_block5_1_relu[0][0]        \n",
            "__________________________________________________________________________________________________\n",
            "conv4_block5_2_bn (BatchNormali (None, 10, 10, 256)  1024        conv4_block5_2_conv[0][0]        \n",
            "__________________________________________________________________________________________________\n",
            "conv4_block5_2_relu (Activation (None, 10, 10, 256)  0           conv4_block5_2_bn[0][0]          \n",
            "__________________________________________________________________________________________________\n",
            "conv4_block5_3_conv (Conv2D)    (None, 10, 10, 1024) 263168      conv4_block5_2_relu[0][0]        \n",
            "__________________________________________________________________________________________________\n",
            "conv4_block5_3_bn (BatchNormali (None, 10, 10, 1024) 4096        conv4_block5_3_conv[0][0]        \n",
            "__________________________________________________________________________________________________\n",
            "conv4_block5_add (Add)          (None, 10, 10, 1024) 0           conv4_block4_out[0][0]           \n",
            "                                                                 conv4_block5_3_bn[0][0]          \n",
            "__________________________________________________________________________________________________\n",
            "conv4_block5_out (Activation)   (None, 10, 10, 1024) 0           conv4_block5_add[0][0]           \n",
            "__________________________________________________________________________________________________\n",
            "conv4_block6_1_conv (Conv2D)    (None, 10, 10, 256)  262400      conv4_block5_out[0][0]           \n",
            "__________________________________________________________________________________________________\n",
            "conv4_block6_1_bn (BatchNormali (None, 10, 10, 256)  1024        conv4_block6_1_conv[0][0]        \n",
            "__________________________________________________________________________________________________\n",
            "conv4_block6_1_relu (Activation (None, 10, 10, 256)  0           conv4_block6_1_bn[0][0]          \n",
            "__________________________________________________________________________________________________\n",
            "conv4_block6_2_conv (Conv2D)    (None, 10, 10, 256)  590080      conv4_block6_1_relu[0][0]        \n",
            "__________________________________________________________________________________________________\n",
            "conv4_block6_2_bn (BatchNormali (None, 10, 10, 256)  1024        conv4_block6_2_conv[0][0]        \n",
            "__________________________________________________________________________________________________\n",
            "conv4_block6_2_relu (Activation (None, 10, 10, 256)  0           conv4_block6_2_bn[0][0]          \n",
            "__________________________________________________________________________________________________\n",
            "conv4_block6_3_conv (Conv2D)    (None, 10, 10, 1024) 263168      conv4_block6_2_relu[0][0]        \n",
            "__________________________________________________________________________________________________\n",
            "conv4_block6_3_bn (BatchNormali (None, 10, 10, 1024) 4096        conv4_block6_3_conv[0][0]        \n",
            "__________________________________________________________________________________________________\n",
            "conv4_block6_add (Add)          (None, 10, 10, 1024) 0           conv4_block5_out[0][0]           \n",
            "                                                                 conv4_block6_3_bn[0][0]          \n",
            "__________________________________________________________________________________________________\n",
            "conv4_block6_out (Activation)   (None, 10, 10, 1024) 0           conv4_block6_add[0][0]           \n",
            "__________________________________________________________________________________________________\n",
            "conv5_block1_1_conv (Conv2D)    (None, 5, 5, 512)    524800      conv4_block6_out[0][0]           \n",
            "__________________________________________________________________________________________________\n",
            "conv5_block1_1_bn (BatchNormali (None, 5, 5, 512)    2048        conv5_block1_1_conv[0][0]        \n",
            "__________________________________________________________________________________________________\n",
            "conv5_block1_1_relu (Activation (None, 5, 5, 512)    0           conv5_block1_1_bn[0][0]          \n",
            "__________________________________________________________________________________________________\n",
            "conv5_block1_2_conv (Conv2D)    (None, 5, 5, 512)    2359808     conv5_block1_1_relu[0][0]        \n",
            "__________________________________________________________________________________________________\n",
            "conv5_block1_2_bn (BatchNormali (None, 5, 5, 512)    2048        conv5_block1_2_conv[0][0]        \n",
            "__________________________________________________________________________________________________\n",
            "conv5_block1_2_relu (Activation (None, 5, 5, 512)    0           conv5_block1_2_bn[0][0]          \n",
            "__________________________________________________________________________________________________\n",
            "conv5_block1_0_conv (Conv2D)    (None, 5, 5, 2048)   2099200     conv4_block6_out[0][0]           \n",
            "__________________________________________________________________________________________________\n",
            "conv5_block1_3_conv (Conv2D)    (None, 5, 5, 2048)   1050624     conv5_block1_2_relu[0][0]        \n",
            "__________________________________________________________________________________________________\n",
            "conv5_block1_0_bn (BatchNormali (None, 5, 5, 2048)   8192        conv5_block1_0_conv[0][0]        \n",
            "__________________________________________________________________________________________________\n",
            "conv5_block1_3_bn (BatchNormali (None, 5, 5, 2048)   8192        conv5_block1_3_conv[0][0]        \n",
            "__________________________________________________________________________________________________\n",
            "conv5_block1_add (Add)          (None, 5, 5, 2048)   0           conv5_block1_0_bn[0][0]          \n",
            "                                                                 conv5_block1_3_bn[0][0]          \n",
            "__________________________________________________________________________________________________\n",
            "conv5_block1_out (Activation)   (None, 5, 5, 2048)   0           conv5_block1_add[0][0]           \n",
            "__________________________________________________________________________________________________\n",
            "conv5_block2_1_conv (Conv2D)    (None, 5, 5, 512)    1049088     conv5_block1_out[0][0]           \n",
            "__________________________________________________________________________________________________\n",
            "conv5_block2_1_bn (BatchNormali (None, 5, 5, 512)    2048        conv5_block2_1_conv[0][0]        \n",
            "__________________________________________________________________________________________________\n",
            "conv5_block2_1_relu (Activation (None, 5, 5, 512)    0           conv5_block2_1_bn[0][0]          \n",
            "__________________________________________________________________________________________________\n",
            "conv5_block2_2_conv (Conv2D)    (None, 5, 5, 512)    2359808     conv5_block2_1_relu[0][0]        \n",
            "__________________________________________________________________________________________________\n",
            "conv5_block2_2_bn (BatchNormali (None, 5, 5, 512)    2048        conv5_block2_2_conv[0][0]        \n",
            "__________________________________________________________________________________________________\n",
            "conv5_block2_2_relu (Activation (None, 5, 5, 512)    0           conv5_block2_2_bn[0][0]          \n",
            "__________________________________________________________________________________________________\n",
            "conv5_block2_3_conv (Conv2D)    (None, 5, 5, 2048)   1050624     conv5_block2_2_relu[0][0]        \n",
            "__________________________________________________________________________________________________\n",
            "conv5_block2_3_bn (BatchNormali (None, 5, 5, 2048)   8192        conv5_block2_3_conv[0][0]        \n",
            "__________________________________________________________________________________________________\n",
            "conv5_block2_add (Add)          (None, 5, 5, 2048)   0           conv5_block1_out[0][0]           \n",
            "                                                                 conv5_block2_3_bn[0][0]          \n",
            "__________________________________________________________________________________________________\n",
            "conv5_block2_out (Activation)   (None, 5, 5, 2048)   0           conv5_block2_add[0][0]           \n",
            "__________________________________________________________________________________________________\n",
            "conv5_block3_1_conv (Conv2D)    (None, 5, 5, 512)    1049088     conv5_block2_out[0][0]           \n",
            "__________________________________________________________________________________________________\n",
            "conv5_block3_1_bn (BatchNormali (None, 5, 5, 512)    2048        conv5_block3_1_conv[0][0]        \n",
            "__________________________________________________________________________________________________\n",
            "conv5_block3_1_relu (Activation (None, 5, 5, 512)    0           conv5_block3_1_bn[0][0]          \n",
            "__________________________________________________________________________________________________\n",
            "conv5_block3_2_conv (Conv2D)    (None, 5, 5, 512)    2359808     conv5_block3_1_relu[0][0]        \n",
            "__________________________________________________________________________________________________\n",
            "conv5_block3_2_bn (BatchNormali (None, 5, 5, 512)    2048        conv5_block3_2_conv[0][0]        \n",
            "__________________________________________________________________________________________________\n",
            "conv5_block3_2_relu (Activation (None, 5, 5, 512)    0           conv5_block3_2_bn[0][0]          \n",
            "__________________________________________________________________________________________________\n",
            "conv5_block3_3_conv (Conv2D)    (None, 5, 5, 2048)   1050624     conv5_block3_2_relu[0][0]        \n",
            "__________________________________________________________________________________________________\n",
            "conv5_block3_3_bn (BatchNormali (None, 5, 5, 2048)   8192        conv5_block3_3_conv[0][0]        \n",
            "__________________________________________________________________________________________________\n",
            "conv5_block3_add (Add)          (None, 5, 5, 2048)   0           conv5_block2_out[0][0]           \n",
            "                                                                 conv5_block3_3_bn[0][0]          \n",
            "__________________________________________________________________________________________________\n",
            "conv5_block3_out (Activation)   (None, 5, 5, 2048)   0           conv5_block3_add[0][0]           \n",
            "__________________________________________________________________________________________________\n",
            "flatten_1 (Flatten)             (None, 51200)        0           conv5_block3_out[0][0]           \n",
            "__________________________________________________________________________________________________\n",
            "dense_2 (Dense)                 (None, 6)            307206      flatten_1[0][0]                  \n",
            "==================================================================================================\n",
            "Total params: 23,894,918\n",
            "Trainable params: 307,206\n",
            "Non-trainable params: 23,587,712\n",
            "__________________________________________________________________________________________________\n"
          ],
          "name": "stdout"
        }
      ]
    },
    {
      "cell_type": "markdown",
      "metadata": {
        "id": "79RjbJE8WN7s",
        "colab_type": "text"
      },
      "source": [
        "1. Using Catrgorical cross entropy as loss since data is single value category\n",
        "2. We use Adam optimizer as it yields better optimization results\n",
        "3. Metrics used to evaluate the performance of model is Accuracy"
      ]
    },
    {
      "cell_type": "code",
      "metadata": {
        "id": "GDVpn-49IvDW",
        "colab_type": "code",
        "colab": {}
      },
      "source": [
        "model1.compile(loss='categorical_crossentropy',optimizer='adam',metrics=['accuracy'])"
      ],
      "execution_count": null,
      "outputs": []
    },
    {
      "cell_type": "markdown",
      "metadata": {
        "id": "V-7nDwLcWh7q",
        "colab_type": "text"
      },
      "source": [
        "**Fitting Train data to our model**"
      ]
    },
    {
      "cell_type": "code",
      "metadata": {
        "id": "ANuhekVDIvBs",
        "colab_type": "code",
        "colab": {
          "base_uri": "https://localhost:8080/",
          "height": 1000
        },
        "outputId": "f26628e4-2618-4d3b-db26-2327b25718cf"
      },
      "source": [
        "vgg_model = model1.fit(X_train, y_train, epochs = 50, batch_size = 64,validation_data=(X_test, y_test), shuffle=True)"
      ],
      "execution_count": null,
      "outputs": [
        {
          "output_type": "stream",
          "text": [
            "Train on 14034 samples, validate on 3000 samples\n",
            "Epoch 1/50\n",
            "14034/14034 [==============================] - 82s 6ms/step - loss: 0.6791 - accuracy: 0.7575 - val_loss: 0.3614 - val_accuracy: 0.8690\n",
            "Epoch 2/50\n",
            "14034/14034 [==============================] - 75s 5ms/step - loss: 0.4065 - accuracy: 0.8653 - val_loss: 0.3673 - val_accuracy: 0.8623\n",
            "Epoch 3/50\n",
            "14034/14034 [==============================] - 75s 5ms/step - loss: 0.3289 - accuracy: 0.8897 - val_loss: 0.3698 - val_accuracy: 0.8677\n",
            "Epoch 4/50\n",
            "14034/14034 [==============================] - 75s 5ms/step - loss: 0.2926 - accuracy: 0.9012 - val_loss: 0.3342 - val_accuracy: 0.8850\n",
            "Epoch 5/50\n",
            "14034/14034 [==============================] - 75s 5ms/step - loss: 0.2453 - accuracy: 0.9169 - val_loss: 0.3928 - val_accuracy: 0.8770\n",
            "Epoch 6/50\n",
            "14034/14034 [==============================] - 75s 5ms/step - loss: 0.2152 - accuracy: 0.9272 - val_loss: 0.3795 - val_accuracy: 0.8810\n",
            "Epoch 7/50\n",
            "14034/14034 [==============================] - 75s 5ms/step - loss: 0.1757 - accuracy: 0.9411 - val_loss: 0.4405 - val_accuracy: 0.8850\n",
            "Epoch 8/50\n",
            "14034/14034 [==============================] - 75s 5ms/step - loss: 0.1582 - accuracy: 0.9453 - val_loss: 0.4348 - val_accuracy: 0.8777\n",
            "Epoch 9/50\n",
            "14034/14034 [==============================] - 75s 5ms/step - loss: 0.1412 - accuracy: 0.9519 - val_loss: 0.4263 - val_accuracy: 0.8807\n",
            "Epoch 10/50\n",
            "14034/14034 [==============================] - 75s 5ms/step - loss: 0.1364 - accuracy: 0.9519 - val_loss: 0.5078 - val_accuracy: 0.8767\n",
            "Epoch 11/50\n",
            "14034/14034 [==============================] - 75s 5ms/step - loss: 0.1129 - accuracy: 0.9634 - val_loss: 0.5313 - val_accuracy: 0.8823\n",
            "Epoch 12/50\n",
            "14034/14034 [==============================] - 75s 5ms/step - loss: 0.0908 - accuracy: 0.9683 - val_loss: 0.6033 - val_accuracy: 0.8777\n",
            "Epoch 13/50\n",
            "14034/14034 [==============================] - 75s 5ms/step - loss: 0.0802 - accuracy: 0.9738 - val_loss: 0.6639 - val_accuracy: 0.8833\n",
            "Epoch 14/50\n",
            "14034/14034 [==============================] - 75s 5ms/step - loss: 0.0897 - accuracy: 0.9706 - val_loss: 0.5600 - val_accuracy: 0.8740\n",
            "Epoch 15/50\n",
            "14034/14034 [==============================] - 75s 5ms/step - loss: 0.0938 - accuracy: 0.9701 - val_loss: 0.6265 - val_accuracy: 0.8750\n",
            "Epoch 16/50\n",
            "14034/14034 [==============================] - 75s 5ms/step - loss: 0.0644 - accuracy: 0.9789 - val_loss: 0.7051 - val_accuracy: 0.8687\n",
            "Epoch 17/50\n",
            "14034/14034 [==============================] - 75s 5ms/step - loss: 0.0568 - accuracy: 0.9816 - val_loss: 0.6840 - val_accuracy: 0.8717\n",
            "Epoch 18/50\n",
            "14034/14034 [==============================] - 75s 5ms/step - loss: 0.0493 - accuracy: 0.9847 - val_loss: 0.7192 - val_accuracy: 0.8707\n",
            "Epoch 19/50\n",
            "14034/14034 [==============================] - 75s 5ms/step - loss: 0.0558 - accuracy: 0.9826 - val_loss: 0.8456 - val_accuracy: 0.8720\n",
            "Epoch 20/50\n",
            "14034/14034 [==============================] - 75s 5ms/step - loss: 0.0388 - accuracy: 0.9882 - val_loss: 0.8595 - val_accuracy: 0.8680\n",
            "Epoch 21/50\n",
            "14034/14034 [==============================] - 75s 5ms/step - loss: 0.0423 - accuracy: 0.9867 - val_loss: 0.8386 - val_accuracy: 0.8723\n",
            "Epoch 22/50\n",
            "14034/14034 [==============================] - 75s 5ms/step - loss: 0.0431 - accuracy: 0.9853 - val_loss: 0.7597 - val_accuracy: 0.8807\n",
            "Epoch 23/50\n",
            "14034/14034 [==============================] - 75s 5ms/step - loss: 0.0425 - accuracy: 0.9866 - val_loss: 1.0015 - val_accuracy: 0.8740\n",
            "Epoch 24/50\n",
            "14034/14034 [==============================] - 75s 5ms/step - loss: 0.0671 - accuracy: 0.9795 - val_loss: 0.8302 - val_accuracy: 0.8767\n",
            "Epoch 25/50\n",
            "14034/14034 [==============================] - 75s 5ms/step - loss: 0.0477 - accuracy: 0.9845 - val_loss: 0.7549 - val_accuracy: 0.8730\n",
            "Epoch 26/50\n",
            "14034/14034 [==============================] - 75s 5ms/step - loss: 0.0230 - accuracy: 0.9938 - val_loss: 0.8288 - val_accuracy: 0.8850\n",
            "Epoch 27/50\n",
            "14034/14034 [==============================] - 75s 5ms/step - loss: 0.0201 - accuracy: 0.9935 - val_loss: 1.0010 - val_accuracy: 0.8713\n",
            "Epoch 28/50\n",
            "14034/14034 [==============================] - 75s 5ms/step - loss: 0.0401 - accuracy: 0.9879 - val_loss: 0.8296 - val_accuracy: 0.8693\n",
            "Epoch 29/50\n",
            "14034/14034 [==============================] - 75s 5ms/step - loss: 0.0261 - accuracy: 0.9919 - val_loss: 0.9942 - val_accuracy: 0.8793\n",
            "Epoch 30/50\n",
            "14034/14034 [==============================] - 75s 5ms/step - loss: 0.0265 - accuracy: 0.9905 - val_loss: 0.9775 - val_accuracy: 0.8820\n",
            "Epoch 31/50\n",
            "14034/14034 [==============================] - 75s 5ms/step - loss: 0.0254 - accuracy: 0.9920 - val_loss: 0.9278 - val_accuracy: 0.8727\n",
            "Epoch 32/50\n",
            "14034/14034 [==============================] - 75s 5ms/step - loss: 0.0334 - accuracy: 0.9909 - val_loss: 0.9983 - val_accuracy: 0.8563\n",
            "Epoch 33/50\n",
            "14034/14034 [==============================] - 75s 5ms/step - loss: 0.0550 - accuracy: 0.9835 - val_loss: 0.8431 - val_accuracy: 0.8723\n",
            "Epoch 34/50\n",
            "14034/14034 [==============================] - 76s 5ms/step - loss: 0.0298 - accuracy: 0.9911 - val_loss: 0.9920 - val_accuracy: 0.8803\n",
            "Epoch 35/50\n",
            "14034/14034 [==============================] - 76s 5ms/step - loss: 0.0289 - accuracy: 0.9907 - val_loss: 1.0448 - val_accuracy: 0.8607\n",
            "Epoch 36/50\n",
            "14034/14034 [==============================] - 75s 5ms/step - loss: 0.0136 - accuracy: 0.9956 - val_loss: 1.0967 - val_accuracy: 0.8780\n",
            "Epoch 37/50\n",
            "14034/14034 [==============================] - 76s 5ms/step - loss: 0.0312 - accuracy: 0.9912 - val_loss: 1.1068 - val_accuracy: 0.8780\n",
            "Epoch 38/50\n",
            "14034/14034 [==============================] - 76s 5ms/step - loss: 0.0361 - accuracy: 0.9893 - val_loss: 0.9380 - val_accuracy: 0.8857\n",
            "Epoch 39/50\n",
            "14034/14034 [==============================] - 76s 5ms/step - loss: 0.0269 - accuracy: 0.9927 - val_loss: 1.1473 - val_accuracy: 0.8567\n",
            "Epoch 40/50\n",
            "14034/14034 [==============================] - 75s 5ms/step - loss: 0.0181 - accuracy: 0.9951 - val_loss: 1.0503 - val_accuracy: 0.8850\n",
            "Epoch 41/50\n",
            "14034/14034 [==============================] - 76s 5ms/step - loss: 0.0213 - accuracy: 0.9934 - val_loss: 1.0931 - val_accuracy: 0.8710\n",
            "Epoch 42/50\n",
            "14034/14034 [==============================] - 76s 5ms/step - loss: 0.0439 - accuracy: 0.9867 - val_loss: 0.9811 - val_accuracy: 0.8767\n",
            "Epoch 43/50\n",
            "14034/14034 [==============================] - 76s 5ms/step - loss: 0.0141 - accuracy: 0.9956 - val_loss: 0.9450 - val_accuracy: 0.8770\n",
            "Epoch 44/50\n",
            "14034/14034 [==============================] - 75s 5ms/step - loss: 0.0234 - accuracy: 0.9923 - val_loss: 1.0409 - val_accuracy: 0.8613\n",
            "Epoch 45/50\n",
            "14034/14034 [==============================] - 76s 5ms/step - loss: 0.0190 - accuracy: 0.9935 - val_loss: 1.0377 - val_accuracy: 0.8800\n",
            "Epoch 46/50\n",
            "14034/14034 [==============================] - 76s 5ms/step - loss: 0.0192 - accuracy: 0.9947 - val_loss: 1.0708 - val_accuracy: 0.8743\n",
            "Epoch 47/50\n",
            "14034/14034 [==============================] - 76s 5ms/step - loss: 0.0067 - accuracy: 0.9974 - val_loss: 1.2114 - val_accuracy: 0.8817\n",
            "Epoch 48/50\n",
            "14034/14034 [==============================] - 76s 5ms/step - loss: 0.0151 - accuracy: 0.9960 - val_loss: 1.7379 - val_accuracy: 0.8180\n",
            "Epoch 49/50\n",
            "14034/14034 [==============================] - 76s 5ms/step - loss: 0.0440 - accuracy: 0.9854 - val_loss: 0.9979 - val_accuracy: 0.8737\n",
            "Epoch 50/50\n",
            "14034/14034 [==============================] - 76s 5ms/step - loss: 0.0086 - accuracy: 0.9969 - val_loss: 1.1112 - val_accuracy: 0.8843\n"
          ],
          "name": "stdout"
        }
      ]
    },
    {
      "cell_type": "code",
      "metadata": {
        "id": "nbrONqPbXHO2",
        "colab_type": "code",
        "colab": {}
      },
      "source": [
        ""
      ],
      "execution_count": null,
      "outputs": []
    },
    {
      "cell_type": "markdown",
      "metadata": {
        "id": "ifLl86kwKGVr",
        "colab_type": "text"
      },
      "source": [
        "**Graph For Model Accuracy**"
      ]
    },
    {
      "cell_type": "code",
      "metadata": {
        "id": "J8d7CUJsKF3A",
        "colab_type": "code",
        "colab": {
          "base_uri": "https://localhost:8080/",
          "height": 573
        },
        "outputId": "aa248c33-40be-4509-8e58-46ca48e2b8d7"
      },
      "source": [
        "plt.plot(vgg_model.history['accuracy'])\n",
        "plt.plot(vgg_model.history['val_accuracy'])\n",
        "plt.title('Model accuracy')\n",
        "plt.ylabel('Accuracy')\n",
        "plt.xlabel('Epoch')\n",
        "plt.legend(['Train', 'Test'], loc='upper left')\n",
        "plt.show()\n",
        "\n",
        "plt.plot(vgg_model.history['loss'])\n",
        "plt.plot(vgg_model.history['val_loss'])\n",
        "plt.title('Model loss')\n",
        "plt.ylabel('Loss')\n",
        "plt.xlabel('Epoch')\n",
        "plt.legend(['Train', 'Test'], loc='upper left')\n",
        "plt.show()"
      ],
      "execution_count": null,
      "outputs": [
        {
          "output_type": "display_data",
          "data": {
            "image/png": "[encoded data removed]",
            "text/plain": [
              "<Figure size 432x288 with 1 Axes>"
            ]
          },
          "metadata": {
            "tags": [],
            "needs_background": "light"
          }
        },
        {
          "output_type": "display_data",
          "data": {
            "image/png": "[encoded data removed]",
            "text/plain": [
              "<Figure size 432x288 with 1 Axes>"
            ]
          },
          "metadata": {
            "tags": [],
            "needs_background": "light"
          }
        }
      ]
    },
    {
      "cell_type": "code",
      "metadata": {
        "id": "Jx3tj5yDYJXp",
        "colab_type": "code",
        "colab": {
          "base_uri": "https://localhost:8080/",
          "height": 51
        },
        "outputId": "68e7c8bb-58f8-4afc-d647-5908f4cfc380"
      },
      "source": [
        "model1.evaluate(X_test, y_test)"
      ],
      "execution_count": null,
      "outputs": [
        {
          "output_type": "stream",
          "text": [
            "3000/3000 [==============================] - 18s 6ms/step\n"
          ],
          "name": "stdout"
        },
        {
          "output_type": "execute_result",
          "data": {
            "text/plain": [
              "[1.1111877498591203, 0.8843333125114441]"
            ]
          },
          "metadata": {
            "tags": []
          },
          "execution_count": 90
        }
      ]
    },
    {
      "cell_type": "markdown",
      "metadata": {
        "id": "lVrKEFe8aESl",
        "colab_type": "text"
      },
      "source": [
        "Pretty Table "
      ]
    },
    {
      "cell_type": "code",
      "metadata": {
        "id": "B7plmgbicbDX",
        "colab_type": "code",
        "colab": {}
      },
      "source": [
        "from prettytable import PrettyTable\n",
        "\n",
        "x = PrettyTable()\n",
        "\n",
        "x.field_names = [\"Model\", \"Train Loss\", \"Test Loss\", \"Train Accuracy\", \"Test Accuracy\"]\n",
        "\n",
        "x.add_row([\"Resnet50\",0.449,0.776,83.5,73.6])\n",
        "x.add_row([\"VGG16\",0.008,1.111,99.6,88.4])\n"
      ],
      "execution_count": 2,
      "outputs": []
    },
    {
      "cell_type": "code",
      "metadata": {
        "id": "VZzxhwobedCv",
        "colab_type": "code",
        "colab": {
          "base_uri": "https://localhost:8080/",
          "height": 119
        },
        "outputId": "46fd77bd-d38c-45e1-8979-30ed15cd5ead"
      },
      "source": [
        "print(x)"
      ],
      "execution_count": 3,
      "outputs": [
        {
          "output_type": "stream",
          "text": [
            "+----------+------------+-----------+----------------+---------------+\n",
            "|  Model   | Train Loss | Test Loss | Train Accuracy | Test Accuracy |\n",
            "+----------+------------+-----------+----------------+---------------+\n",
            "| Resnet50 |   0.449    |   0.776   |      83.5      |      73.6     |\n",
            "|  VGG16   |   0.008    |   1.111   |      99.6      |      88.4     |\n",
            "+----------+------------+-----------+----------------+---------------+\n"
          ],
          "name": "stdout"
        }
      ]
    },
    {
      "cell_type": "code",
      "metadata": {
        "id": "KEJ2SaHVe21G",
        "colab_type": "code",
        "colab": {}
      },
      "source": [
        ""
      ],
      "execution_count": null,
      "outputs": []
    }
  ]
}